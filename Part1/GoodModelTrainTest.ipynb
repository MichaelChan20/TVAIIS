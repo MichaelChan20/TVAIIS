{
  "cells": [
    {
      "cell_type": "markdown",
      "id": "6HCBVQ6cRdA-",
      "metadata": {
        "id": "6HCBVQ6cRdA-"
      },
      "source": [
        "## Setup\n",
        "\n"
      ]
    },
    {
      "cell_type": "code",
      "execution_count": null,
      "id": "aa476b3d",
      "metadata": {
        "colab": {
          "base_uri": "https://localhost:8080/"
        },
        "id": "aa476b3d",
        "outputId": "92ff5db0-30fd-4c45-d110-260caafa8b54"
      },
      "outputs": [
        {
          "name": "stderr",
          "output_type": "stream",
          "text": [
            "/usr/local/lib/python3.10/dist-packages/torch/_functorch/deprecated.py:61: UserWarning: We've integrated functorch into PyTorch. As the final step of the integration, functorch.vmap is deprecated as of PyTorch 2.0 and will be deleted in a future version of PyTorch >= 2.3. Please use torch.vmap instead; see the PyTorch 2.0 release notes and/or the torch.func migration guide for more details https://pytorch.org/docs/master/func.migrating.html\n",
            "  warn_deprecated('vmap', 'torch.vmap')\n"
          ]
        }
      ],
      "source": [
        "# Import packages\n",
        "import sys\n",
        "sys.path.append('/content/drive/My Drive/onnx-example-main')\n",
        "import importlib\n",
        "import pandas as pd\n",
        "import numpy as np\n",
        "from sklearn.model_selection import train_test_split\n",
        "import onnxruntime as rt\n",
        "import onnx\n",
        "from skl2onnx.common.data_types import FloatTensorType\n",
        "from skl2onnx import to_onnx\n",
        "from sklearn.tree import DecisionTreeClassifier\n",
        "from sklearn.feature_selection import VarianceThreshold\n",
        "from sklearn.ensemble import GradientBoostingClassifier, RandomForestClassifier\n",
        "from sklearn.neural_network import MLPClassifier\n",
        "from sklearn.model_selection import cross_val_score\n",
        "from sklearn.gaussian_process import GaussianProcessClassifier\n",
        "from sklearn.gaussian_process.kernels import RBF\n",
        "from sklearn.metrics import accuracy_score, roc_auc_score, f1_score, precision_score, recall_score, confusion_matrix, roc_curve, auc\n",
        "from sklearn.pipeline import Pipeline\n",
        "from skl2onnx import convert_sklearn\n",
        "\n",
        "from sklearn.neighbors import NearestNeighbors\n",
        "from sklearn.preprocessing import normalize\n",
        "from sklearn.preprocessing import StandardScaler\n",
        "from sklearn.preprocessing import KBinsDiscretizer\n",
        "from sklearn.preprocessing import FunctionTransformer\n",
        "from sklearn.compose import ColumnTransformer\n",
        "import random\n",
        "import math\n",
        "import seaborn as sns\n",
        "from aif360.datasets import BinaryLabelDataset\n",
        "from aif360.metrics import BinaryLabelDatasetMetric\n",
        "from aif360.sklearn.detectors import bias_scan\n",
        "\n",
        "import matplotlib.pyplot as plt\n"
      ]
    },
    {
      "cell_type": "code",
      "execution_count": null,
      "id": "BBJSCVdyezaj",
      "metadata": {
        "id": "BBJSCVdyezaj"
      },
      "outputs": [],
      "source": [
        "# Import local files\n",
        "import utils.tests_custom as tests\n",
        "from utils.tests_custom import Tests"
      ]
    },
    {
      "cell_type": "code",
      "execution_count": null,
      "id": "6JN1hiditlhb",
      "metadata": {
        "id": "6JN1hiditlhb"
      },
      "outputs": [],
      "source": [
        "# Define a tester for calling tests later\n",
        "importlib.reload(tests)\n",
        "tester = Tests()"
      ]
    },
    {
      "cell_type": "markdown",
      "id": "35dlJznIW4lw",
      "metadata": {
        "id": "35dlJznIW4lw"
      },
      "source": [
        "# Testing algorithm\n"
      ]
    },
    {
      "cell_type": "code",
      "execution_count": null,
      "id": "hMpBwUtlXzXR",
      "metadata": {
        "id": "hMpBwUtlXzXR"
      },
      "outputs": [],
      "source": [
        "def intoBinary(data, attribute, split):\n",
        "    sorted_data = data.sort_values(by=attribute)\n",
        "    split_index = int(len(sorted_data) * split)\n",
        "\n",
        "    split_threshold = sorted_data.iloc[split_index][attribute]\n",
        "    print(\"boundary\", split_threshold)\n",
        "    binary_attribute = pd.Series(0, index=data.index)\n",
        "    binary_attribute[sorted_data[attribute] > split_threshold] = 1\n",
        "\n",
        "    data[attribute] = binary_attribute\n",
        "    return data"
      ]
    },
    {
      "cell_type": "code",
      "execution_count": null,
      "id": "OexMmhQvW3HE",
      "metadata": {
        "id": "OexMmhQvW3HE"
      },
      "outputs": [],
      "source": [
        "def test_model(pipe, x_training, y_training, x_testing, y_testing, accuracy=True, roc_auc=True, f1=True,\n",
        "               precision=True, recall=True, conf_matrix=True, cross_validate=False, roc_curves=True,\n",
        "               dis_imp=True, ba_rat=True, consist=True, mean_diff=True, num_neg=True, rich=True, e_d_f=True, s_p_d=True, detector=False):\n",
        "  print(\"Training the model\")\n",
        "  pipe.fit(x_training, y_training)\n",
        "  y_pred = pipeline.predict(x_testing)\n",
        "\n",
        "  data_frame = pd.concat([x_testing.reset_index(drop=True), pd.DataFrame(y_pred, columns=['checked'])], axis=1)\n",
        "\n",
        "  ####\n",
        "  # Alter this code manually to check for certain data groups have algorithmic bias.\n",
        "  # Continous features have to be made binary by creating a precentile boundary\n",
        "  ####\n",
        "\n",
        "  #In order to seperate continious data into privelidge and unprivalidge, use this call to make it binary\n",
        "  # data_frame = intoBinary(data_frame, 'persoonlijke_eigenschappen_dagen_sinds_taaleis', 0.2) #This line turns it all binary\n",
        "  data_frame = intoBinary(data_frame, 'persoon_leeftijd_bij_onderzoek', 0.1)\n",
        "  ##Manually define what is privelaged and which are not\n",
        "\n",
        "\n",
        "  # privileged_groups = [{'persoon_geslacht_vrouw': 0}]  # Privileged group for 'persoon_geslacht_vrouw'\n",
        "  # unprivileged_groups = [{'persoon_geslacht_vrouw': 1}]  # Unprivileged group for 'persoon_geslacht_vrouw'\n",
        "  # privileged_groups = [{'persoonlijke_eigenschappen_nl_spreken1': 1}]  # Privileged group for 'persoon_geslacht_vrouw'\n",
        "  # unprivileged_groups = [{'persoonlijke_eigenschappen_nl_spreken1': 0}]  # Unprivileged group for 'persoon_geslacht_vrouw'\n",
        "\n",
        "  # privileged_groups.append({'persoonlijke_eigenschappen_dagen_sinds_taaleis': 0})\n",
        "  # unprivileged_groups.append({'persoonlijke_eigenschappen_dagen_sinds_taaleis': 1})\n",
        "  privileged_groups = [{'persoon_leeftijd_bij_onderzoek': 1}]\n",
        "  unprivileged_groups = [{'persoon_leeftijd_bij_onderzoek': 0}]\n",
        "  # privileged_groups = [{'typering_hist_inburgeringsbehoeftig': 0}]\n",
        "  # unprivileged_groups = [{'typering_hist_inburgeringsbehoeftig': 1}]\n",
        "  # privileged_groups = [{'instrument_ladder_huidig_werk_re_integratie': 0}]\n",
        "  # unprivileged_groups = [{'instrument_ladder_huidig_werk_re_integratie': 1}, {'instrument_ladder_huidig_werk_re_integratie': 1}]\n",
        "\n",
        "  # privileged_groups = [{'persoonlijke_eigenschappen_dagen_sinds_taaleis': 0, 'persoon_geslacht_vrouw': 0}]\n",
        "  # unprivileged_groups = [{'persoonlijke_eigenschappen_dagen_sinds_taaleis': 1, 'persoon_geslacht_vrouw': 1},\n",
        "  #  {'persoon_geslacht_vrouw': 1}, {'persoonlijke_eigenschappen_dagen_sinds_taaleis': 1}]\n",
        "\n",
        "\n",
        "  bld = BinaryLabelDataset(df=data_frame,\n",
        "                  favorable_label=0,\n",
        "                  unfavorable_label=1,\n",
        "                  label_names=['checked'],\n",
        "                  # unprivileged_protected_attributes=[[1], [1]], #potential change\n",
        "                  # privileged_protected_attributes=[[0], [0]], #potential change\n",
        "                  # protected_attribute_names=['persoon_geslacht_vrouw', 'persoonlijke_eigenschappen_dagen_sinds_taaleis'], #potential change\n",
        "                  unprivileged_protected_attributes=[[0]], #potential change\n",
        "                  privileged_protected_attributes=[[1]], #potential change\n",
        "                  protected_attribute_names=['persoon_leeftijd_bij_onderzoek']#'persoon_geslacht_vrouw', 'persoonlijke_eigenschappen_dagen_sinds_taaleis'], #potential change\n",
        "          )\n",
        "\n",
        "  # Alter no further than here\n",
        "  #######\n",
        "\n",
        "  bld.validate_dataset()\n",
        "  print(bld.protected_attribute_names)\n",
        "  stats_table = []\n",
        "  metric = BinaryLabelDatasetMetric(bld, privileged_groups=privileged_groups, unprivileged_groups=unprivileged_groups)\n",
        "\n",
        "  if(dis_imp):\n",
        "    disparate_impact = metric.disparate_impact()\n",
        "    print(\"Disparate Impact:\", disparate_impact)\n",
        "    stats_table.append([\"Disparate impact\", disparate_impact])\n",
        "\n",
        "  if(ba_rat):\n",
        "    base_rate = metric.base_rate()\n",
        "    print(\"Base Rate:\", base_rate)\n",
        "    stats_table.append([\"Base Rate\", base_rate])\n",
        "\n",
        "  if(consist):\n",
        "    consistency = metric.consistency(n_neighbors=3)\n",
        "    print(\"Consistency:\", consistency)\n",
        "    # stats_table.append([\"Consistency\", consistency])\n",
        "\n",
        "  if(mean_diff):\n",
        "    mean_difference = metric.mean_difference()\n",
        "    print(\"Mean Difference:\", mean_difference)\n",
        "    stats_table.append([\"Mean Difference\", mean_difference])\n",
        "\n",
        "  if(num_neg):\n",
        "    num_negatives = metric.num_negatives(privileged=None)\n",
        "    print(\"Number of Negatives:\", num_negatives)\n",
        "    stats_table.append([\"Number of Negatives\", num_negatives])\n",
        "\n",
        "  if(e_d_f):\n",
        "    emp_diff_fair = metric.smoothed_empirical_differential_fairness(concentration=1.0)\n",
        "    print(\"Smoothed Empirical Differential Fairness:\", emp_diff_fair)\n",
        "    stats_table.append([\"Smoothed Empirical Differential Fairness\", emp_diff_fair])\n",
        "\n",
        "  if(s_p_d):\n",
        "    stat_par_diff = metric.statistical_parity_difference()\n",
        "    print(\"Statistical Parity Difference:\", stat_par_diff)\n",
        "    stats_table.append([\"Statistical Parity Difference\", stat_par_diff])\n",
        "\n",
        "  if(rich):\n",
        "    rich_subgroup = metric.rich_subgroup(tuple(y_pred))\n",
        "    print(\"Rich Subgroup:\", rich_subgroup)\n",
        "    stats_table.append([\"Rich Subgroup\", rich_subgroup])\n",
        "\n",
        "\n",
        "\n",
        "  if accuracy:\n",
        "      acc = accuracy_score(y_testing, y_pred)\n",
        "      print(f'Accuracy:  {acc}')\n",
        "      stats_table.append([\"Accuracy\", acc])\n",
        "\n",
        "  # ROC AUC\n",
        "  if roc_auc:\n",
        "      roc_auc_value = roc_auc_score(y_testing, pipeline.predict_proba(x_testing)[:, 1])\n",
        "      print(f'ROC AUC:   {roc_auc_value}')\n",
        "      stats_table.append([\"ROC AUC\", roc_auc_value])\n",
        "\n",
        "  # F1 Score\n",
        "  if f1:\n",
        "      f1_value = f1_score(y_testing, y_pred)\n",
        "      print(f'F1 Score:  {f1_value}')\n",
        "      stats_table.append([\"F1 Score\", f1_value])\n",
        "\n",
        "  # Precision\n",
        "  if precision:\n",
        "      precision_value = precision_score(y_testing, y_pred)\n",
        "      print(f'Precision: {precision_value}')\n",
        "      stats_table.append([\"Precision\", precision_value])\n",
        "\n",
        "  # Recall\n",
        "  if recall:\n",
        "      recall_value = recall_score(y_testing, y_pred)\n",
        "      print(f'Recall:    {recall_value}')\n",
        "      stats_table.append([\"Recall\", recall_value])\n",
        "\n",
        "  # Confusion Matrix\n",
        "  if conf_matrix:\n",
        "      print('Confusion Matrix:')\n",
        "      cm = confusion_matrix(y_testing, y_pred)\n",
        "      print(cm)\n",
        "      # stats_table.append([\"Confusion Matrix\", cm])\n",
        "\n",
        "  # Cross-Validation Scores\n",
        "  if cross_validate:\n",
        "      cv_scores = cross_val_score(pipeline, X, y, cv=5)\n",
        "      print(\"Cross-Validation Scores:\", cv_scores)\n",
        "      # stats_table.append([\"Cross-Validation Scores\", cv_scores])\n",
        "\n",
        "  if detector:\n",
        "    subset, score = bias_scan(x_testing, y_testing, pd.DataFrame(y_pred), mode='binary')\n",
        "    print(score)\n",
        "    print(subset)\n",
        "\n",
        "  if(roc_curves):\n",
        "    y_scores = pipeline.predict_proba(x_testing)[:, 1]\n",
        "    fpr, tpr, thresholds = roc_curve(y_testing, y_scores)\n",
        "    roc_auc = auc(fpr, tpr)\n",
        "\n",
        "    plt.figure()\n",
        "    plt.plot(fpr, tpr, color='darkorange', lw=2, label='ROC curve (area = %0.2f)' % roc_auc)\n",
        "    plt.plot([0, 1], [0, 1], color='navy', lw=2, linestyle='--')\n",
        "    plt.xlim([0.0, 1.0])\n",
        "    plt.ylim([0.0, 1.05])\n",
        "    plt.xlabel('False Positive Rate')\n",
        "    plt.ylabel('True Positive Rate')\n",
        "    plt.title('Receiver Operating Characteristic (ROC) Curve')\n",
        "    plt.legend(loc=\"lower right\")\n",
        "    plt.show()\n",
        "  return stats_table\n",
        "\n",
        "\n",
        "  stats_table = test_model(pipeline, X_train, y_train, X_test, y_test)\n"
      ]
    },
    {
      "cell_type": "markdown",
      "id": "pzqqa5mCRplF",
      "metadata": {
        "id": "pzqqa5mCRplF"
      },
      "source": [
        "# Loading Data & Preprocessing"
      ]
    },
    {
      "cell_type": "code",
      "execution_count": null,
      "id": "8e81b41d",
      "metadata": {
        "id": "8e81b41d"
      },
      "outputs": [],
      "source": [
        "# Let's load the dataset\n",
        "csv_path = '/content/drive/My Drive/onnx-example-main/data/synth_data_for_training.csv' # Your personal drive pathing\n",
        "data = pd.read_csv(csv_path)\n",
        "\n",
        "# Let's specify the features and the target\n",
        "y = data['checked']\n",
        "X = data.drop(['checked'], axis=1)\n",
        "X = X.astype(np.float32)\n",
        "\n",
        "# Let's split the dataset into train and test\n",
        "X_train, X_test, y_train, y_test = train_test_split(X, y, test_size=0.25, random_state=42)"
      ]
    },
    {
      "cell_type": "code",
      "execution_count": null,
      "id": "bU1XktePhUU-",
      "metadata": {
        "id": "bU1XktePhUU-"
      },
      "outputs": [],
      "source": [
        "X_train, y_train = augment(X_train, y_train)"
      ]
    },
    {
      "cell_type": "code",
      "execution_count": null,
      "id": "EEi3O0KlNHby",
      "metadata": {
        "id": "EEi3O0KlNHby"
      },
      "outputs": [],
      "source": [
        "# Load augmented dataset\n",
        "train_csv_path = '/content/drive/My Drive/onnx-example-main/data/goodTrain.csv'\n",
        "test_csv_path = '/content/drive/My Drive/onnx-example-main/data/goodTest.csv'\n",
        "\n",
        "train = pd.read_csv(train_csv_path)\n",
        "y_train = train['checked']\n",
        "X_train = train.drop(['checked'], axis=1)\n",
        "test = pd.read_csv(test_csv_path)\n",
        "y_test = test['checked']\n",
        "X_test = test.drop(['checked'], axis=1)"
      ]
    },
    {
      "cell_type": "code",
      "execution_count": null,
      "id": "yazdtWB-D0V3",
      "metadata": {
        "id": "yazdtWB-D0V3"
      },
      "outputs": [],
      "source": [
        "# This is just proof of concept I can change the dataset, no real important features selected here\n",
        "# print(X.iloc[0])\n",
        "# print(len(X))\n",
        "\n",
        "# filtered_data_X = X[(X['adres_aantal_brp_adres'] != 6) & (X['adres_dagen_op_adres'] < 100)]\n",
        "# filtered_data_y = y[X.index.isin(filtered_data_X.index)]\n",
        "# X_train_filtered, X_test_filtered, y_train_filtered, y_test_filtered = train_test_split(filtered_data_X, filtered_data_y, test_size=0.25, random_state=42)\n",
        "# print(len(filtered_data_X))\n",
        "# print(len(filtered_data_y))"
      ]
    },
    {
      "cell_type": "code",
      "execution_count": null,
      "id": "2sF0RPPWxg3o",
      "metadata": {
        "id": "2sF0RPPWxg3o"
      },
      "outputs": [],
      "source": [
        "# Select data based on variance (not the final version yet, for now just for testing)\n",
        "selector = VarianceThreshold()"
      ]
    },
    {
      "cell_type": "code",
      "execution_count": null,
      "id": "eaf5a3c6",
      "metadata": {
        "id": "eaf5a3c6"
      },
      "outputs": [],
      "source": [
        "## UNCOMMENT YOUR DESIRED CLASSIFIER\n",
        "\n",
        "# Gradient Boosting\n",
        "classifier = GradientBoostingClassifier(n_estimators=100, learning_rate=1.0, max_depth=1, random_state=0)\n",
        "\n",
        "# Small Neural Network\n",
        "# classifier = MLPClassifier(hidden_layer_sizes=(512,256,128), activation='relu', warm_start=True, solver='adam', max_iter=200, random_state=0)\n",
        "\n",
        "# Decision Tree\n",
        "# classifier = DecisionTreeClassifier(random_state=0)\n",
        "\n",
        "# Gaussian classification\n",
        "# classifier = GaussianProcessClassifier(random_state=0, n_jobs=-1)\n"
      ]
    },
    {
      "cell_type": "code",
      "execution_count": null,
      "id": "GaHKAyiYgGeZ",
      "metadata": {
        "colab": {
          "base_uri": "https://localhost:8080/"
        },
        "id": "GaHKAyiYgGeZ",
        "outputId": "fe833268-39e4-4316-faf2-bd2bb85a4b15"
      },
      "outputs": [
        {
          "name": "stdout",
          "output_type": "stream",
          "text": [
            "316\n",
            "31\n",
            "[]\n",
            "285\n",
            "285\n"
          ]
        }
      ],
      "source": [
        "#Features to pass (Deemed the dropped features to subjective)\n",
        "\n",
        "features_to_pass = data.columns.tolist()\n",
        "print(len(features_to_pass))\n",
        "\n",
        "features_to_delete = ['competentie_vakdeskundigheid_toepassen', 'pla_historie_ontwikkeling', 'afspraak_inspanningsperiode',\n",
        "                     'afspraak_laatstejaar_aantal_woorden', 'afspraak_aantal_woorden', 'afspraak_signaal_voor_medewerker',\n",
        "                     'persoonlijke_eigenschappen_uitstroom_verw_vlgs_klant', 'persoonlijke_eigenschappen_taaleis_voldaan',\n",
        "                    'competentie_kwaliteit_leveren', 'competentie_gedrevenheid_en_ambitie_tonen',\n",
        "                     'persoonlijke_eigenschappen_opstelling', 'competentie_overtuigen_en_beïnvloeden', 'competentie_aansturen',\n",
        "                     'competentie_other', 'competentie_op_de_behoeften_en_verwachtingen_van_de__klant__richten', 'persoonlijke_eigenschappen_houding_opm',\n",
        "                     'competentie_materialen_en_middelen_inzetten', 'persoonlijke_eigenschappen_leergierigheid_opm', 'competentie_formuleren_en_rapporteren',\n",
        "                     'persoonlijke_eigenschappen_initiatief_opm', 'competentie_onderzoeken', 'persoonlijke_eigenschappen_presentatie_opm',\n",
        "                     'competentie_met_druk_en_tegenslag_omgaan', 'persoonlijke_eigenschappen_communicatie_opm', 'persoonlijke_eigenschappen_doorzettingsvermogen_opm',\n",
        "                     'competentie_instructies_en_procedures_opvolgen', 'competentie_leren', 'competentie_omgaan_met_verandering_en_aanpassen',\n",
        "                     'persoonlijke_eigenschappen_flexibiliteit_opm', 'persoonlijke_eigenschappen_zelfstandigheid_opm', 'checked']\n",
        "print(len(features_to_delete))\n",
        "#elements of features_to_delete but not of features_to_pass\n",
        "print(([x for x in features_to_delete if x not in features_to_pass]))\n",
        "print(len(features_to_pass) - len(features_to_delete))\n",
        "features_to_pass = [x for x in features_to_pass if x not in features_to_delete]\n",
        "print(len(features_to_pass))\n"
      ]
    },
    {
      "cell_type": "code",
      "execution_count": null,
      "id": "qaRC5qCZgeZc",
      "metadata": {
        "id": "qaRC5qCZgeZc"
      },
      "outputs": [],
      "source": [
        "#create preprocessor\n",
        "preprocessor = ColumnTransformer(\n",
        "    transformers=[\n",
        "        (\"binned\",  KBinsDiscretizer(n_bins=5, encode='ordinal', strategy='uniform'), ['persoon_leeftijd_bij_onderzoek']),\n",
        "        ('passthrough', 'passthrough', features_to_pass)\n",
        "    ],\n",
        "    remainder='drop',\n",
        "    verbose_feature_names_out=False  # Set verbose_feature_names to False\n",
        ")"
      ]
    },
    {
      "cell_type": "code",
      "execution_count": null,
      "id": "ZcwWwIRCxg3o",
      "metadata": {
        "id": "ZcwWwIRCxg3o"
      },
      "outputs": [],
      "source": [
        "# Create a pipeline object with our selector and classifier\n",
        "# NOTE: You can create custom pipeline objects but they must be registered to onnx or it will not recognise them\n",
        "# Because of this we recommend using the onnx known objects as defined in the documentation\n",
        "pipeline = Pipeline(steps=[('preprocessor', preprocessor), ('standardization', standardizer), ('classification', classifier)])"
      ]
    },
    {
      "cell_type": "code",
      "execution_count": null,
      "id": "Y9HfuUGLg0hP",
      "metadata": {
        "colab": {
          "base_uri": "https://localhost:8080/"
        },
        "id": "Y9HfuUGLg0hP",
        "outputId": "d5e25932-b257-49e9-c1b1-2ce7b1f7ef56"
      },
      "outputs": [
        {
          "name": "stdout",
          "output_type": "stream",
          "text": [
            "Accuracy of the original model:  0.9313725490196079\n",
            "314\n",
            "Accuracy of the ONNX model:  0.9313725490196079\n"
          ]
        }
      ],
      "source": [
        "#Test to see if pipeline model yields the same as ONNX\n",
        "#PIPELINE\n",
        "pipeline.fit(X_train, y_train)\n",
        "y_pred = pipeline.predict(X_test)\n",
        "original_accuracy = accuracy_score(y_test, y_pred)\n",
        "print('Accuracy of the original model: ', original_accuracy)\n",
        "print(len(pipeline.named_steps['preprocessor'].transformers_[1][2]))\n",
        "# ONNX MODEL\n",
        "\n",
        "def convert_dataframe_schema(df, drop=None):\n",
        "    inputs = []\n",
        "    for k, v in zip(df.columns, df.dtypes):\n",
        "        if drop is not None and k in drop:\n",
        "            continue\n",
        "\n",
        "        t = FloatTensorType([None, 1])\n",
        "\n",
        "        inputs.append((k, t))\n",
        "    return inputs\n",
        "\n",
        "initial_inputs = convert_dataframe_schema(X)\n",
        "onnx_model = convert_sklearn(\n",
        "    pipeline, initial_types=initial_inputs,\n",
        "    target_opset=12)\n",
        "\n",
        "inputs = {c: X_test[c].values for c in X_test.columns}\n",
        "for (c, _) in initial_inputs:\n",
        "    inputs[c] = inputs[c].astype(np.float32)\n",
        "for k in inputs:\n",
        "    inputs[k] = inputs[k].reshape((inputs[k].shape[0], 1))\n",
        "\n",
        "# Let's check the accuracy of the converted model\n",
        "sess = rt.InferenceSession(onnx_model.SerializeToString())\n",
        "#inputs = {c: X_test[c].values for c in X_test.columns}\n",
        "y_pred_onnx =  sess.run(None, inputs)\n",
        "\n",
        "accuracy_onnx_model = accuracy_score(y_test, y_pred_onnx[0])\n",
        "print('Accuracy of the ONNX model: ', accuracy_onnx_model)"
      ]
    },
    {
      "cell_type": "code",
      "execution_count": null,
      "id": "Pt9JO0JukKh2",
      "metadata": {
        "id": "Pt9JO0JukKh2"
      },
      "outputs": [],
      "source": [
        "# Let's save the model\n",
        "onnx.save(onnx_model, \"/content/drive/My Drive/onnx-example-main/model_1.onnx\")\n",
        "\n",
        "# Let's load the model\n",
        "#new_session = rt.InferenceSession(\"model_1.onnx\")"
      ]
    },
    {
      "cell_type": "markdown",
      "id": "lIYP6_BDSFFi",
      "metadata": {
        "id": "lIYP6_BDSFFi"
      },
      "source": [
        "# Training & Evaluation"
      ]
    },
    {
      "cell_type": "markdown",
      "id": "7TmzDj-zYS7E",
      "metadata": {
        "id": "7TmzDj-zYS7E"
      },
      "source": [
        "# Local training algorithm"
      ]
    },
    {
      "cell_type": "code",
      "execution_count": null,
      "id": "2jvRxzPGYi5I",
      "metadata": {
        "colab": {
          "base_uri": "https://localhost:8080/"
        },
        "id": "2jvRxzPGYi5I",
        "outputId": "3dac2c96-a6b8-4bf7-f432-6f14f0fbd9d1"
      },
      "outputs": [
        {
          "name": "stdout",
          "output_type": "stream",
          "text": [
            "\n",
            "(19372, 315)\n",
            "(9483, 315)\n"
          ]
        }
      ],
      "source": [
        "# Filter the data\n",
        "# filtered_data = data[ (data['persoonlijke_eigenschappen_dagen_sinds_taaleis'] < 10000)]\n",
        "filtered_data = data\n",
        "# filtered_data = filtered_data['persoon_geslacht_vrouw'] = not data['persoon_geslacht_vrouw']\n",
        "# filtered_data = data[(data['adres_dagen_op_adres'] > 5)]\n",
        "print()\n",
        "# Separate features and target\n",
        "filtered_data_y = filtered_data['checked']\n",
        "filtered_data_X = filtered_data.drop(['checked'], axis=1)\n",
        "\n",
        "# Reset index to ensure proper alignment\n",
        "filtered_data_X.reset_index(drop=True, inplace=True)\n",
        "filtered_data_y.reset_index(drop=True, inplace=True)\n",
        "\n",
        "# Convert features to float32 if needed\n",
        "filtered_data_X = filtered_data_X.astype(np.float32)\n",
        "filtered_data_X = filtered_data_X.fillna(0)\n",
        "print(X_train.shape)\n",
        "print(X_train_filtered.shape)\n",
        "X_train_filtered, X_test_filtered, y_train_filtered, y_test_filtered = train_test_split(filtered_data_X, filtered_data_y, test_size=0.25, random_state=42)\n"
      ]
    },
    {
      "cell_type": "code",
      "execution_count": null,
      "id": "FypaI_hiYRgw",
      "metadata": {
        "colab": {
          "base_uri": "https://localhost:8080/",
          "height": 823
        },
        "id": "FypaI_hiYRgw",
        "outputId": "b8377741-53e3-4ba2-96b2-65480c0bd279"
      },
      "outputs": [
        {
          "name": "stdout",
          "output_type": "stream",
          "text": [
            "Training the model\n",
            "boundary 35.0\n",
            "['persoon_leeftijd_bij_onderzoek']\n",
            "Disparate Impact: 0.9151096231972555\n",
            "Base Rate: 0.9237824161922834\n",
            "Consistency: [0.90839131]\n",
            "Mean Difference: -0.07909764620136128\n",
            "Number of Negatives: 241.0\n",
            "Smoothed Empirical Differential Fairness: 0.7749433431114534\n",
            "Statistical Parity Difference: -0.07909764620136128\n",
            "Rich Subgroup: 0.0\n",
            "Accuracy:  0.9313725490196079\n",
            "ROC AUC:   0.9283162611449809\n",
            "F1 Score:  0.6032906764168189\n",
            "Precision: 0.6846473029045643\n",
            "Recall:    0.5392156862745098\n",
            "Confusion Matrix:\n",
            "[[2780   76]\n",
            " [ 141  165]]\n"
          ]
        },
        {
          "data": {
            "image/png": "[encoded data removed]",
            "text/plain": [
              "<Figure size 640x480 with 1 Axes>"
            ]
          },
          "metadata": {},
          "output_type": "display_data"
        }
      ],
      "source": [
        "#stats_table = test_model(pipeline, X_train_filtered, y_train_filtered, X_test_filtered, y_test_filtered)\n",
        "stats_table = test_model(pipeline, X_train, y_train, X_test, y_test)"
      ]
    },
    {
      "cell_type": "code",
      "execution_count": null,
      "id": "WBY__PDuaG5x",
      "metadata": {
        "colab": {
          "base_uri": "https://localhost:8080/"
        },
        "id": "WBY__PDuaG5x",
        "outputId": "d1219c7f-1b80-41cd-9d5a-1604b6f96c2a"
      },
      "outputs": [
        {
          "name": "stdout",
          "output_type": "stream",
          "text": [
            "\\begin{table}[htbp]\n",
            "    \\centering\n",
            "    \\begin{tabular}{|c|c|}\n",
            "        \\hline\n",
            "        Metric & Score \\\\\n",
            "        \\hline\n",
            "        Disparate impact & 0.827 \\\\\n",
            "        Base Rate & 0.923 \\\\\n",
            "        Mean Difference & -0.162 \\\\\n",
            "        Number of Negatives & 242.000 \\\\\n",
            "        Smoothed Empirical Differential Fairness & 1.310 \\\\\n",
            "        Statistical Parity Difference & -0.162 \\\\\n",
            "        Rich Subgroup & 0.000 \\\\\n",
            "        Accuracy & 0.946 \\\\\n",
            "        ROC AUC & 0.967 \\\\\n",
            "        F1 Score & 0.686 \\\\\n",
            "        Precision & 0.777 \\\\\n",
            "        Recall & 0.614 \\\\\n",
            "        \\hline\n",
            "    \\end{tabular}\n",
            "    \\caption{Foreign woman}\n",
            "    \\label{tab:foreign_woman}\n",
            "\\end{table}\n",
            "\n"
          ]
        }
      ],
      "source": [
        "def generate_latex_table(data, name):\n",
        "    latex_code = \"\\\\begin{table}[htbp]\\n\"\n",
        "    latex_code += \"    \\\\centering\\n\"\n",
        "    latex_code += \"    \\\\begin{tabular}{|c|c|}\\n\"\n",
        "    latex_code += \"        \\\\hline\\n\"\n",
        "    latex_code += \"        Metric & Score \\\\\\\\\\n\"\n",
        "    latex_code += \"        \\\\hline\\n\"\n",
        "\n",
        "    for entry in data:\n",
        "        # Format the entry to have three digits after the decimal point\n",
        "        formatted_entry = \"{:.3f}\".format(entry[1])\n",
        "        # Add the formatted entry to the LaTeX code\n",
        "        latex_code += \"        {} & {} \\\\\\\\\\n\".format(entry[0], formatted_entry)\n",
        "\n",
        "    latex_code += \"        \\\\hline\\n\"\n",
        "    latex_code += \"    \\\\end{tabular}\\n\"\n",
        "    # Incorporate the table name into the caption\n",
        "    latex_code += \"    \\\\caption{\" + name + \"}\\n\"\n",
        "    latex_code += \"    \\\\label{tab:\" + name.lower().replace(\" \", \"_\") + \"}\\n\"\n",
        "    latex_code += \"\\\\end{table}\\n\"\n",
        "\n",
        "    return latex_code\n",
        "\n",
        "\n",
        "print(generate_latex_table(stats_table, \"Foreign woman\"))"
      ]
    },
    {
      "cell_type": "markdown",
      "id": "7qm4CYpyTUij",
      "metadata": {
        "id": "7qm4CYpyTUij"
      },
      "source": [
        "## Simple Training Pipeline"
      ]
    },
    {
      "cell_type": "code",
      "execution_count": null,
      "id": "gMu31F-Xxg3p",
      "metadata": {
        "colab": {
          "base_uri": "https://localhost:8080/",
          "height": 211
        },
        "id": "gMu31F-Xxg3p",
        "outputId": "b48ded94-b018-4ec0-ff80-89d2d2eaf4bd"
      },
      "outputs": [
        {
          "ename": "NameError",
          "evalue": "name 'pipeline' is not defined",
          "output_type": "error",
          "traceback": [
            "\u001b[0;31m---------------------------------------------------------------------------\u001b[0m",
            "\u001b[0;31mNameError\u001b[0m                                 Traceback (most recent call last)",
            "\u001b[0;32m<ipython-input-24-a089e1ec0a56>\u001b[0m in \u001b[0;36m<cell line: 2>\u001b[0;34m()\u001b[0m\n\u001b[1;32m      1\u001b[0m \u001b[0;31m# Let's train a simple model\u001b[0m\u001b[0;34m\u001b[0m\u001b[0;34m\u001b[0m\u001b[0m\n\u001b[0;32m----> 2\u001b[0;31m \u001b[0mpipeline\u001b[0m\u001b[0;34m.\u001b[0m\u001b[0mfit\u001b[0m\u001b[0;34m(\u001b[0m\u001b[0mX_train\u001b[0m\u001b[0;34m,\u001b[0m \u001b[0my_train\u001b[0m\u001b[0;34m)\u001b[0m\u001b[0;34m\u001b[0m\u001b[0;34m\u001b[0m\u001b[0m\n\u001b[0m\u001b[1;32m      3\u001b[0m \u001b[0;31m# classifier.fit(X_train, y_train)\u001b[0m\u001b[0;34m\u001b[0m\u001b[0;34m\u001b[0m\u001b[0m\n\u001b[1;32m      4\u001b[0m \u001b[0;34m\u001b[0m\u001b[0m\n\u001b[1;32m      5\u001b[0m \u001b[0;31m# Let's evaluate the model\u001b[0m\u001b[0;34m\u001b[0m\u001b[0;34m\u001b[0m\u001b[0m\n",
            "\u001b[0;31mNameError\u001b[0m: name 'pipeline' is not defined"
          ]
        }
      ],
      "source": [
        "# Let's train a simple model\n",
        "pipeline.fit(X_train, y_train)\n",
        "# classifier.fit(X_train, y_train)\n",
        "\n",
        "# Let's evaluate the model\n",
        "y_pred = pipeline.predict(X_test)\n",
        "\n",
        "# For Gaussian classifier\n",
        "# score = classifier.score(X_test, y_test)\n",
        "# print('Score', score)\n",
        "# y_pred = classifier.predict(X_test)\n",
        "# prob = classifier.predict_proba(X_test)\n",
        "# print('Probabilities', prob)\n",
        "\n",
        "original_accuracy = accuracy_score(y_test, y_pred)\n",
        "print('Original accuracy', original_accuracy)"
      ]
    },
    {
      "cell_type": "code",
      "execution_count": null,
      "id": "gWmoErCmPQ3j",
      "metadata": {
        "colab": {
          "base_uri": "https://localhost:8080/",
          "height": 638
        },
        "id": "gWmoErCmPQ3j",
        "outputId": "a7999005-ba16-4016-ba8d-4cfbba441929"
      },
      "outputs": [
        {
          "name": "stdout",
          "output_type": "stream",
          "text": [
            "Training the model\n",
            "Accuracy:  0.9313725490196079\n",
            "roc_auc:   0.9283162611449809\n",
            "f1:        0.6032906764168189\n",
            "precision: 0.6846473029045643\n",
            "recall:    0.5392156862745098\n",
            "confusion matrix:\n",
            "[[2780   76]\n",
            " [ 141  165]]\n"
          ]
        },
        {
          "data": {
            "image/png": "[encoded data removed]",
            "text/plain": [
              "<Figure size 640x480 with 1 Axes>"
            ]
          },
          "metadata": {},
          "output_type": "display_data"
        }
      ],
      "source": [
        "# More extensive evaluation\n",
        "tester.testModel(pipeline, X_train, y_train, X_test, y_test)"
      ]
    },
    {
      "cell_type": "code",
      "execution_count": null,
      "id": "Fqr7Fa1NZshv",
      "metadata": {
        "colab": {
          "base_uri": "https://localhost:8080/"
        },
        "id": "Fqr7Fa1NZshv",
        "outputId": "1190903a-eb1b-4e58-9169-438bf76abfe9"
      },
      "outputs": [
        {
          "name": "stdout",
          "output_type": "stream",
          "text": [
            "RUN 1: Accuracy with 200 column(s) dropped: 0.9156\n",
            "RUN 1: Produces zero almost everywhere: False\n",
            "RUN 2: Accuracy with 200 column(s) dropped: 0.9279\n",
            "RUN 2: Produces zero almost everywhere: False\n",
            "RUN 3: Accuracy with 200 column(s) dropped: 0.9171\n",
            "RUN 3: Produces zero almost everywhere: False\n",
            "RUN 4: Accuracy with 200 column(s) dropped: 0.9159\n",
            "RUN 4: Produces zero almost everywhere: False\n"
          ]
        }
      ],
      "source": [
        "# Perform different tests by calling tester.testFunc()\n",
        "# Available are testDrop, testManWoman, testModel, testNoise, testAlmostZero\n",
        "# You can implement more tests in the file 'tests_custom'\n",
        "tester.testDrop(pipeline, data, n_columns=200)"
      ]
    },
    {
      "cell_type": "code",
      "execution_count": null,
      "id": "in4yXCYGk1Dz",
      "metadata": {
        "colab": {
          "base_uri": "https://localhost:8080/"
        },
        "id": "in4yXCYGk1Dz",
        "outputId": "99ae31a0-7d69-4d1f-9f66-4e31d07009ea"
      },
      "outputs": [
        {
          "data": {
            "text/plain": [
              "False"
            ]
          },
          "execution_count": 10,
          "metadata": {},
          "output_type": "execute_result"
        }
      ],
      "source": [
        "tester.testAlmostZero(pipeline, X_test=X_test, y_test=y_test)"
      ]
    },
    {
      "cell_type": "markdown",
      "id": "hkymSniLTc1N",
      "metadata": {
        "id": "hkymSniLTc1N"
      },
      "source": [
        "## Training with Data Modifications"
      ]
    },
    {
      "cell_type": "code",
      "execution_count": null,
      "id": "T5JotXvDERwY",
      "metadata": {
        "colab": {
          "base_uri": "https://localhost:8080/",
          "height": 657
        },
        "id": "T5JotXvDERwY",
        "outputId": "59e9bad0-c8c9-4017-82d0-e0b0f2d7ffac"
      },
      "outputs": [
        {
          "name": "stdout",
          "output_type": "stream",
          "text": [
            "\n",
            "Training the model\n",
            "Accuracy:  0.9421069281872825\n",
            "roc_auc:   0.9456787398647865\n",
            "f1:        0.6500956022944551\n",
            "precision: 0.7657657657657657\n",
            "recall:    0.5647840531561462\n",
            "confusion matrix:\n",
            "[[2808   52]\n",
            " [ 131  170]]\n"
          ]
        },
        {
          "data": {
            "image/png": "[encoded data removed]",
            "text/plain": [
              "<Figure size 640x480 with 1 Axes>"
            ]
          },
          "metadata": {},
          "output_type": "display_data"
        }
      ],
      "source": [
        "# Filter the data\n",
        "filtered_data = data[(data['adres_aantal_brp_adres'] != 6) & (data['adres_dagen_op_adres'] < 1000)]\n",
        "# filtered_data = data\n",
        "filtered_data = data[(data['adres_dagen_op_adres'] > 5)]\n",
        "print()\n",
        "# Separate features and target\n",
        "filtered_data_y = filtered_data['checked']\n",
        "filtered_data_X = filtered_data.drop(['checked'], axis=1)\n",
        "\n",
        "# Reset index to ensure proper alignment\n",
        "filtered_data_X.reset_index(drop=True, inplace=True)\n",
        "filtered_data_y.reset_index(drop=True, inplace=True)\n",
        "\n",
        "# Convert features to float32 if needed\n",
        "filtered_data_X = filtered_data_X.astype(np.float32)\n",
        "\n",
        "X_train_filtered, X_test_filtered, y_train_filtered, y_test_filtered = train_test_split(filtered_data_X, filtered_data_y, test_size=0.25, random_state=42)\n",
        "\n",
        "tester.testModel(pipeline, X_train_filtered, y_train_filtered, X_test_filtered, y_test_filtered)"
      ]
    },
    {
      "cell_type": "code",
      "execution_count": null,
      "id": "JwPlI-WVlfVW",
      "metadata": {
        "colab": {
          "base_uri": "https://localhost:8080/",
          "height": 185
        },
        "id": "JwPlI-WVlfVW",
        "outputId": "b57ffa22-a487-482b-cb16-3e7c43a579f1"
      },
      "outputs": [
        {
          "ename": "NameError",
          "evalue": "name 'pipeline' is not defined",
          "output_type": "error",
          "traceback": [
            "\u001b[0;31m---------------------------------------------------------------------------\u001b[0m",
            "\u001b[0;31mNameError\u001b[0m                                 Traceback (most recent call last)",
            "\u001b[0;32m<ipython-input-18-b125a03040a8>\u001b[0m in \u001b[0;36m<cell line: 4>\u001b[0;34m()\u001b[0m\n\u001b[1;32m      2\u001b[0m \u001b[0;31m# Available are testDrop, testManWoman, testModel, testNoise\u001b[0m\u001b[0;34m\u001b[0m\u001b[0;34m\u001b[0m\u001b[0m\n\u001b[1;32m      3\u001b[0m \u001b[0;31m# You can implement more tests in the file 'tests_custom'\u001b[0m\u001b[0;34m\u001b[0m\u001b[0;34m\u001b[0m\u001b[0m\n\u001b[0;32m----> 4\u001b[0;31m \u001b[0mtester\u001b[0m\u001b[0;34m.\u001b[0m\u001b[0mtestModel\u001b[0m\u001b[0;34m(\u001b[0m\u001b[0mpipeline\u001b[0m\u001b[0;34m,\u001b[0m \u001b[0mX_train_filtered\u001b[0m\u001b[0;34m,\u001b[0m \u001b[0my_train_filtered\u001b[0m\u001b[0;34m,\u001b[0m \u001b[0mX_test_filtered\u001b[0m\u001b[0;34m,\u001b[0m \u001b[0my_test_filtered\u001b[0m\u001b[0;34m)\u001b[0m\u001b[0;34m\u001b[0m\u001b[0;34m\u001b[0m\u001b[0m\n\u001b[0m",
            "\u001b[0;31mNameError\u001b[0m: name 'pipeline' is not defined"
          ]
        }
      ],
      "source": [
        "# Perform different tests by calling tester.testFunc()\n",
        "# Available are testDrop, testManWoman, testModel, testNoise\n",
        "# You can implement more tests in the file 'tests_custom'\n",
        "tester.testModel(pipeline, X_train_filtered, y_train_filtered, X_test_filtered, y_test_filtered)"
      ]
    },
    {
      "cell_type": "code",
      "execution_count": null,
      "id": "IOSJwuKBgLZH",
      "metadata": {
        "colab": {
          "base_uri": "https://localhost:8080/"
        },
        "id": "IOSJwuKBgLZH",
        "outputId": "97237f57-a026-444d-ca31-d4a1b2e30b39"
      },
      "outputs": [
        {
          "name": "stdout",
          "output_type": "stream",
          "text": [
            "Original Accuracy 0.9493991144845034\n",
            "12.649110640673518\n",
            "FLipped Accuracy 0.9506641366223909\n",
            "7.483314773547883\n",
            "All Male Accuracy 0.9478178368121443\n",
            "5.0\n",
            "All Female Accuracy 0.9522454142947502\n",
            "5.5677643628300215\n",
            "All Random Accuracy 0.9509803921568627\n",
            "5.0\n"
          ]
        },
        {
          "data": {
            "text/plain": [
              "(array([0, 1, 0, ..., 0, 0, 0]),\n",
              " array([0, 1, 0, ..., 0, 0, 0]),\n",
              " array([0, 1, 0, ..., 0, 0, 0]),\n",
              " array([0, 1, 0, ..., 0, 0, 0]),\n",
              " array([0, 1, 0, ..., 0, 0, 0]))"
            ]
          },
          "execution_count": 17,
          "metadata": {},
          "output_type": "execute_result"
        }
      ],
      "source": [
        "tester.testManWoman(pipeline, X_test, y_test)"
      ]
    },
    {
      "cell_type": "markdown",
      "id": "Ue4w9vS8SKb-",
      "metadata": {
        "id": "Ue4w9vS8SKb-"
      },
      "source": [
        "# Saving Model as ONNX"
      ]
    },
    {
      "cell_type": "code",
      "execution_count": null,
      "id": "1jHnherZxg3p",
      "metadata": {
        "colab": {
          "base_uri": "https://localhost:8080/",
          "height": 222
        },
        "id": "1jHnherZxg3p",
        "outputId": "cba3cd54-acde-48a3-c21b-940f8f332a7f"
      },
      "outputs": [
        {
          "ename": "NameError",
          "evalue": "name 'pipeline' is not defined",
          "output_type": "error",
          "traceback": [
            "\u001b[0;31m---------------------------------------------------------------------------\u001b[0m",
            "\u001b[0;31mNameError\u001b[0m                                 Traceback (most recent call last)",
            "\u001b[0;32m<ipython-input-22-4b6eb558fa5c>\u001b[0m in \u001b[0;36m<cell line: 16>\u001b[0;34m()\u001b[0m\n\u001b[1;32m     15\u001b[0m \u001b[0;31m# Let's convert the model to ONNX\u001b[0m\u001b[0;34m\u001b[0m\u001b[0;34m\u001b[0m\u001b[0m\n\u001b[1;32m     16\u001b[0m onnx_model = convert_sklearn(\n\u001b[0;32m---> 17\u001b[0;31m     \u001b[0mpipeline\u001b[0m\u001b[0;34m,\u001b[0m \u001b[0minitial_types\u001b[0m\u001b[0;34m=\u001b[0m\u001b[0minitial_inputs\u001b[0m\u001b[0;34m,\u001b[0m\u001b[0;34m\u001b[0m\u001b[0;34m\u001b[0m\u001b[0m\n\u001b[0m\u001b[1;32m     18\u001b[0m     target_opset=12)\n\u001b[1;32m     19\u001b[0m \u001b[0;34m\u001b[0m\u001b[0m\n",
            "\u001b[0;31mNameError\u001b[0m: name 'pipeline' is not defined"
          ]
        }
      ],
      "source": [
        "def convert_dataframe_schema(df, drop=None):\n",
        "    inputs = []\n",
        "    for k, v in zip(df.columns, df.dtypes):\n",
        "        if drop is not None and k in drop:\n",
        "            continue\n",
        "\n",
        "        t = FloatTensorType([None, 1])\n",
        "\n",
        "        inputs.append((k, t))\n",
        "    return inputs\n",
        "\n",
        "initial_inputs = convert_dataframe_schema(X)\n",
        "\n",
        "\n",
        "# Let's convert the model to ONNX\n",
        "onnx_model = convert_sklearn(\n",
        "    pipeline, initial_types=initial_inputs,\n",
        "    target_opset=12)\n",
        "\n",
        "inputs = {c: X_test[c].values for c in X_test.columns}\n",
        "for (c, _) in initial_inputs:\n",
        "    inputs[c] = inputs[c].astype(np.float32)\n",
        "for k in inputs:\n",
        "    inputs[k] = inputs[k].reshape((inputs[k].shape[0], 1))\n",
        "\n",
        "# Let's check the accuracy of the converted model\n",
        "sess = rt.InferenceSession(onnx_model.SerializeToString())\n",
        "#inputs = {c: X_test[c].values for c in X_test.columns}\n",
        "y_pred_onnx =  sess.run(None, inputs)\n",
        "\n",
        "accuracy_onnx_model = accuracy_score(y_test, y_pred_onnx[0])\n",
        "print('Accuracy of the ONNX model: ', accuracy_onnx_model)"
      ]
    },
    {
      "cell_type": "code",
      "execution_count": null,
      "id": "3f68f63d",
      "metadata": {
        "colab": {
          "base_uri": "https://localhost:8080/"
        },
        "id": "3f68f63d",
        "outputId": "acf0ba8e-480d-44e8-d13b-33a3e585cefd"
      },
      "outputs": [
        {
          "name": "stdout",
          "output_type": "stream",
          "text": [
            "Accuracy of the ONNX model:  0.9493991144845034\n"
          ]
        }
      ],
      "source": [
        "# Let's save the model\n",
        "onnx_model_path = '/content/drive/My Drive/onnx-example-main/model/gboost.onnx' #Jim's personal drive pathing\n",
        "onnx.save(onnx_model, onnx_model_path)\n",
        "\n",
        "# Let's load the model\n",
        "new_session = rt.InferenceSession(onnx_model_path)\n",
        "\n",
        "# Let's predict the target\n",
        "y_pred_onnx2 =  new_session.run(None, {'X': X_test.values.astype(np.float32)})\n",
        "\n",
        "accuracy_onnx_model = accuracy_score(y_test, y_pred_onnx2[0])\n",
        "print('Accuracy of the ONNX model: ', accuracy_onnx_model)\n"
      ]
    },
    {
      "cell_type": "markdown",
      "id": "j6mTHLPmf8CH",
      "metadata": {
        "id": "j6mTHLPmf8CH"
      },
      "source": [
        "# Data augmentation"
      ]
    },
    {
      "cell_type": "code",
      "execution_count": null,
      "id": "o2HBfhmsgFEZ",
      "metadata": {
        "id": "o2HBfhmsgFEZ"
      },
      "outputs": [],
      "source": [
        "\n",
        "def get_ngbr(sub_data, knn, dataset, subindex):\n",
        "    #dataset = sub_data\n",
        "    rand_sample_id = random.randrange(0, len(sub_data))\n",
        "    #print(subindex)\n",
        "    #print(subindex[rand_sample_id])\n",
        "    #print(Dataset.iloc[rand_sample_id])\n",
        "    parent = sub_data.iloc[rand_sample_id].to_frame().T\n",
        "    ngbrs = knn.kneighbors(parent, 2)[1][0]\n",
        "\n",
        "    parent = dataset.iloc[subindex[rand_sample_id]].to_frame().T\n",
        "    c1, c2 = dataset.iloc[subindex[ngbrs[0]]], dataset.iloc[subindex[ngbrs[1]]]\n",
        "    #print(sub_data)\n",
        "    #parent = dataset.iloc[rand_sample_id]\n",
        "    return parent, c1, c2\n",
        "\n",
        "def generate_balanced_dataset(x_train, y_train, p_attrs, cl, targetLabel, targetAttr, ageTransformer=None):\n",
        "    #print(x_train)\n",
        "    x_train = x_train.reset_index(drop=True)\n",
        "    y_train = y_train.reset_index(drop=True)\n",
        "    dataset = x_train\n",
        "    dataset[\"checked\"] = y_train\n",
        "\n",
        "    if ageTransformer:\n",
        "        ageTransformer = ageTransformer.fit(x_train)\n",
        "        X_transformed = ageTransformer.transform(x_train)\n",
        "        colnames = ageTransformer.get_feature_names_out()\n",
        "        transformed_dataset = pd.DataFrame(X_transformed, columns=colnames)\n",
        "    else:\n",
        "        transformed_dataset = x_train\n",
        "    transformed_dataset = transformed_dataset.reindex(sorted(transformed_dataset.columns), axis=1)\n",
        "    transformed_dataset['checked'] = y_train\n",
        "\n",
        "    standardizer = StandardScaler()\n",
        "    standardizer = standardizer.fit(transformed_dataset)\n",
        "\n",
        "    # Count the number of samples in each group\n",
        "    count_groups = get_count(transformed_dataset, p_attrs, cl, targetLabel, targetAttr)\n",
        "    #print(count_groups)\n",
        "    max_size = get_generateMax(transformed_dataset, p_attrs, cl, targetLabel, targetAttr)\n",
        "    # Params\n",
        "    cr, f = 0.8, 1.0\n",
        "\n",
        "    # Iterate over each class label and protected attribute\n",
        "    for c in cl:\n",
        "        for attr in p_attrs:\n",
        "            print(\"iterating\")\n",
        "\n",
        "            #df.loc[df['column_name'] == some_value]\n",
        "            #sib = Dataset.loc[Dataset[targetLabel] == some_value]\n",
        "\n",
        "            sub_data = transformed_dataset[(transformed_dataset[targetLabel] == c) & (transformed_dataset[targetAttr] == attr)]\n",
        "            subindex = sub_data.index\n",
        "            sub_group_size = count_groups[(c, attr)]\n",
        "            to_generate = max_size[c] - sub_group_size\n",
        "            #print(sub_data)\n",
        "\n",
        "            #normalizer = Normalizer.fit(sub_data)\n",
        "            #sub_data = normalizer.transform(sub_data)\n",
        "            sub_data = pd.DataFrame(standardizer.transform(sub_data), columns=dataset.columns)\n",
        "            # Apply k-nearest neighbors to find neighbors\n",
        "            knn = NearestNeighbors().fit(sub_data)\n",
        "\n",
        "            # Generate new samples to balance the dataset\n",
        "            for i in range(to_generate):\n",
        "                parent, c1, c2 = get_ngbr(sub_data, knn, dataset, subindex)\n",
        "                new_candidate = {}\n",
        "\n",
        "                for col in dataset.columns:\n",
        "                    if parent[col].dtype == bool:\n",
        "                        if cr > random.randrange(0, 1):\n",
        "                            new_val = random.choice([parent[col], c1[col], c2[col]])\n",
        "                        else:\n",
        "                            new_val = parent[col]\n",
        "                    elif parent[col].dtype == object:  # String\n",
        "                        new_val = random.choice([parent[col], c1[col], c2[col]])\n",
        "                    else:  # Numeric\n",
        "                        if cr > random.randrange(0, 1):\n",
        "                            #new_val = parent[col] + f * (c1[col] - c2[col])\n",
        "                            new_val = random.choice([parent[col], c1[col], c2[col]])\n",
        "                        else:\n",
        "                            new_val = parent[col]\n",
        "                    new_candidate[col] = new_val\n",
        "                    #print(new_candidate)\n",
        "                #Concat new samples\n",
        "                dataset = pd.concat([dataset, pd.DataFrame(new_candidate, columns=dataset.columns)], ignore_index=True)\n",
        "\n",
        "    return dataset\n",
        "\n",
        "\n",
        "def get_count(Dataset, p_attrs, cl, targetLabel, targetAttr):\n",
        "    sub_counts = {}\n",
        "\n",
        "    for i in range(len(cl)):\n",
        "        for j in range(len(p_attrs)):\n",
        "            subgrp = Dataset[(Dataset[targetLabel] == cl[i]) & (Dataset[targetAttr] == p_attrs[j])]\n",
        "            sub_counts[cl[i], p_attrs[j]] = len(subgrp)\n",
        "    print(sub_counts)\n",
        "    return sub_counts\n",
        "\n",
        "def get_ratio(Dataset, cl, targetLabel):\n",
        "\n",
        "    label_counts = {}\n",
        "    for i in range(len(cl)):\n",
        "        label_counts[cl[i]] = len(Dataset[(Dataset[targetLabel] == cl[i])])\n",
        "    #NoFraud/Fraud\n",
        "    return label_counts[cl[0]]/label_counts[cl[1]]\n",
        "\n",
        "def get_generateMax(Dataset, p_attrs, cl, targetLabel, targetAttr):\n",
        "    ratio = get_ratio(Dataset, cl, targetLabel)\n",
        "    sub_counts = get_count(Dataset, p_attrs, cl, targetLabel, targetAttr)\n",
        "    scaled_counts = {}\n",
        "    limits = {}\n",
        "\n",
        "    for j in range(len(p_attrs)):\n",
        "        scaled_counts[cl[0], p_attrs[j]] = sub_counts[cl[0], p_attrs[j]]\n",
        "        scaled_counts[cl[1], p_attrs[j]] = sub_counts[cl[1], p_attrs[j]]*ratio\n",
        "    scaledMax = max(scaled_counts.values())\n",
        "\n",
        "\n",
        "    limits[cl[0]] = int(math.ceil(scaledMax))\n",
        "    limits[cl[1]] = int(math.ceil(scaledMax/ratio))\n",
        "    return limits\n",
        "\n",
        "\n",
        "\n",
        "def drop_features(X):\n",
        "    return X.drop(columns=['adres_aantal_woonadres_handmatig'])\n",
        "\n",
        "    preprocessor = ColumnTransformer(\n",
        "    transformers=[\n",
        "        #(\"dropper\", droptransformer, ['adres_aantal_woonadres_handmatig']),\n",
        "        (\"binned\",  KBinsDiscretizer(n_bins=5, encode='ordinal', strategy='uniform'), ['persoon_leeftijd_bij_onderzoek'])\n",
        "    ]\n",
        "    ,remainder='passthrough'  # This means that the remaining columns will be left as they are\n",
        ")\n",
        "\n",
        "def augment(X_train, y_train):\n",
        "\n",
        "    ageTransformer = ColumnTransformer(\n",
        "        transformers=[\n",
        "\n",
        "            (\"binned\",  KBinsDiscretizer(n_bins=5, encode='ordinal', strategy='uniform'), ['persoon_leeftijd_bij_onderzoek'])\n",
        "        ]\n",
        "        ,remainder='passthrough'  # This means that the remaining columns will be left as they are\n",
        "        ,verbose_feature_names_out=False\n",
        "    )\n",
        "\n",
        "    #Generate-----------------------------------------------------------------------------------------------------\n",
        "    cl = [0, 1]\n",
        "    p_attrs = [0, 1, 2, 3, 4]\n",
        "    targetLabel = \"checked\"\n",
        "    targetAttr = \"persoon_leeftijd_bij_onderzoek\"\n",
        "    new_data = generate_balanced_dataset(X_train, y_train, p_attrs, cl, targetLabel, targetAttr, ageTransformer)\n",
        "    y_train = new_data['checked']\n",
        "    X_train = new_data.drop(['checked'], axis=1)\n",
        "    #-------------------------------------------------------------------------------------------------------------\n",
        "    #Generate-----------------------------------------------------------------------------------------------------\n",
        "    cl = [0, 1]\n",
        "    p_attrs = [0, 1]\n",
        "    targetLabel = \"checked\"\n",
        "    targetAttr = \"persoon_geslacht_vrouw\"\n",
        "    new_data = generate_balanced_dataset(X_train, y_train, p_attrs, cl, targetLabel, targetAttr)\n",
        "    y_train = new_data['checked']\n",
        "    X_train = new_data.drop(['checked'], axis=1)\n",
        "    #-------------------------------------------------------------------------------------------------------------\n",
        "    #Generate-----------------------------------------------------------------------------------------------------\n",
        "    cl = [0, 1]\n",
        "    p_attrs = [0, 1]\n",
        "    targetLabel = \"checked\"\n",
        "    targetAttr = \"persoonlijke_eigenschappen_spreektaal_anders\"\n",
        "    new_data = generate_balanced_dataset(X_train, y_train, p_attrs, cl, targetLabel, targetAttr)\n",
        "    y_train = new_data['checked']\n",
        "    X_train = new_data.drop(['checked'], axis=1)\n",
        "    #-------------------------------------------------------------------------------------------------------------\n",
        "\n",
        "    return(X_train, y_train)\n",
        "\n",
        "standardizer = StandardScaler()"
      ]
    },
    {
      "cell_type": "code",
      "execution_count": null,
      "id": "RJq_QshEhF0Z",
      "metadata": {
        "colab": {
          "base_uri": "https://localhost:8080/"
        },
        "id": "RJq_QshEhF0Z",
        "outputId": "08892968-1e26-460d-8c4a-b6fd81a7137c"
      },
      "outputs": [
        {
          "name": "stdout",
          "output_type": "stream",
          "text": [
            "{(0, 0): 210, (0, 1): 865, (0, 2): 2078, (0, 3): 3255, (0, 4): 2116, (1, 0): 94, (1, 1): 254, (1, 2): 317, (1, 3): 162, (1, 4): 132}\n",
            "{(0, 0): 210, (0, 1): 865, (0, 2): 2078, (0, 3): 3255, (0, 4): 2116, (1, 0): 94, (1, 1): 254, (1, 2): 317, (1, 3): 162, (1, 4): 132}\n",
            "iterating\n",
            "iterating\n",
            "iterating\n",
            "iterating\n",
            "iterating\n",
            "iterating\n",
            "iterating\n",
            "iterating\n",
            "iterating\n",
            "iterating\n",
            "{(0, 0): 8265, (0, 1): 8010, (1, 0): 948, (1, 1): 887}\n",
            "{(0, 0): 8265, (0, 1): 8010, (1, 0): 948, (1, 1): 887}\n",
            "iterating\n",
            "iterating\n",
            "iterating\n",
            "iterating\n",
            "{(0, 0): 8538, (0, 1): 8280, (1, 0): 982, (1, 1): 916}\n",
            "{(0, 0): 8538, (0, 1): 8280, (1, 0): 982, (1, 1): 916}\n",
            "iterating\n",
            "iterating\n",
            "iterating\n",
            "iterating\n"
          ]
        }
      ],
      "source": [
        "augX_train, augy_train = augment(X_train, y_train)"
      ]
    },
    {
      "cell_type": "code",
      "execution_count": null,
      "id": "t_kP6fD1shZU",
      "metadata": {
        "id": "t_kP6fD1shZU"
      },
      "outputs": [],
      "source": [
        "X_train = augX_train\n",
        "y_train = augy_train"
      ]
    }
  ],
  "metadata": {
    "colab": {
      "provenance": []
    },
    "kernelspec": {
      "display_name": "Python 3",
      "language": "python",
      "name": "python3"
    },
    "language_info": {
      "codemirror_mode": {
        "name": "ipython",
        "version": 3
      },
      "file_extension": ".py",
      "mimetype": "text/x-python",
      "name": "python",
      "nbconvert_exporter": "python",
      "pygments_lexer": "ipython3",
      "version": "3.11.7"
    }
  },
  "nbformat": 4,
  "nbformat_minor": 5
}
