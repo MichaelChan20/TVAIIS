{
 "cells": [
  {
   "cell_type": "code",
   "execution_count": 1,
   "metadata": {},
   "outputs": [],
   "source": [
    "# %pip install tensorflow==2.15.0 pillow==10.2.0 scipy==1.12.0 uuid==1.30 matplotlib pandas==2.2.0 seaborn==0.13.2 scikit-learn==1.4.1.post1 \n",
    "# %pip install numpy skl2onnx onnxruntime onnx statsmodels xgboost onnxmltools pydot pyquicksetup \n",
    "# %pip install mlprodict\n",
    "# %pip install pytest"
   ]
  },
  {
   "cell_type": "code",
   "execution_count": 1,
   "metadata": {},
   "outputs": [
    {
     "name": "stderr",
     "output_type": "stream",
     "text": [
      "C:\\Users\\ninol\\AppData\\Local\\Temp\\ipykernel_155448\\888243798.py:2: DeprecationWarning: \n",
      "Pyarrow will become a required dependency of pandas in the next major release of pandas (pandas 3.0),\n",
      "(to allow more performant data types, such as the Arrow string type, and better interoperability with other libraries)\n",
      "but was not found to be installed on your system.\n",
      "If this would cause problems for you,\n",
      "please provide us feedback at https://github.com/pandas-dev/pandas/issues/54466\n",
      "        \n",
      "  import pandas as pd\n"
     ]
    }
   ],
   "source": [
    "# Import packages\n",
    "import pandas as pd\n",
    "import numpy as np\n",
    "from sklearn.model_selection import train_test_split\n",
    "import onnxruntime as rt\n",
    "from skl2onnx.common.data_types import FloatTensorType\n",
    "from sklearn.feature_selection import VarianceThreshold\n",
    "from sklearn.ensemble import GradientBoostingClassifier\n",
    "from sklearn.metrics import accuracy_score, precision_score, recall_score, confusion_matrix\n",
    "from sklearn.pipeline import Pipeline\n",
    "from skl2onnx import convert_sklearn\n",
    "\n",
    "from sklearn.preprocessing import StandardScaler\n",
    "from sklearn.preprocessing import KBinsDiscretizer\n",
    "from sklearn.compose import ColumnTransformer"
   ]
  },
  {
   "cell_type": "code",
   "execution_count": 2,
   "metadata": {},
   "outputs": [],
   "source": [
    "from utils.tests_custom import Tests"
   ]
  },
  {
   "cell_type": "code",
   "execution_count": 19,
   "metadata": {},
   "outputs": [],
   "source": [
    "# Let's load the dataset\n",
    "data = pd.read_csv('data/synth_data_for_training.csv')\n",
    "train_data, test_data = train_test_split(data, test_size=0.2, random_state=0)\n",
    "\n",
    "X_train, y_train = train_data.drop(['checked'], axis=1), train_data['checked']\n",
    "X_test, y_test = test_data.drop(['checked'], axis=1), test_data['checked']"
   ]
  },
  {
   "cell_type": "code",
   "execution_count": 20,
   "metadata": {},
   "outputs": [
    {
     "name": "stdout",
     "output_type": "stream",
     "text": [
      "<class 'onnxruntime.capi.onnxruntime_inference_collection.InferenceSession'>\n",
      "Accuracy of the ONNX model:  0.9849742981415579\n",
      "[[2256    6]\n",
      " [  32  235]]\n",
      "Precision 0.975103734439834 recall 0.8801498127340824\n"
     ]
    }
   ],
   "source": [
    "# Let's load the model\n",
    "new_session = rt.InferenceSession(\"models/model_2.onnx\")\n",
    "print(type(new_session))\n",
    "\n",
    "# Let's predict the target\n",
    "y_pred_onnx2 =  new_session.run(None, {'X': X_test.values.astype(np.float32)})\n",
    "\n",
    "accuracy_onnx_model = accuracy_score(y_test, y_pred_onnx2[0])\n",
    "confusion = confusion_matrix(y_test, y_pred_onnx2[0])\n",
    "precision = precision_score(y_test, y_pred_onnx2[0])\n",
    "recall = recall_score(y_test, y_pred_onnx2[0])\n",
    "print('Accuracy of the ONNX model: ', accuracy_onnx_model)\n",
    "print(confusion)\n",
    "print('Precision', precision, 'recall', recall)\n"
   ]
  },
  {
   "cell_type": "code",
   "execution_count": 21,
   "metadata": {},
   "outputs": [
    {
     "name": "stdout",
     "output_type": "stream",
     "text": [
      "RUNNING GENDER MUTATION TESTS:\n",
      "Original Accuracy:  0.9849742981415579 mean risk score: 0.09529458283906682\n",
      "Euclidian Distance to Ground Truth 6.164414002968976\n",
      "All Male Accuracy:  0.9849742981415579 mean risk score: 0.09450375642546462\n",
      "Euclidian Distance to Ground Truth 6.164414002968976\n",
      "All Female Accuracy:  0.9857651245551602 mean risk score: 0.09608540925266904\n",
      "Euclidian Distance to Ground Truth 6.0\n",
      "Swapped Genders Accuracy:  0.9857651245551602 mean risk score: 0.09529458283906682\n",
      "Euclidian Distance to Ground Truth 6.0\n",
      "Random Genders Accuracy:  0.9845788849347569 mean risk score: 0.09489916963226572\n",
      "Euclidian Distance to Ground Truth 6.244997998398398\n",
      "RUNNING AGE MUTATION TESTS:\n",
      "Original Accuracy:  0.9849742981415579 mean risk score: 0.09529458283906682\n",
      "Euclidian Distance to Ground Truth 6.164414002968976\n",
      "All 25 Accuracy:  0.977856860419138 mean risk score: 0.0937129300118624\n",
      "Euclidian Distance to Ground Truth 7.483314773547883\n",
      "All 45 Accuracy:  0.9766706207987347 mean risk score: 0.088572558323448\n",
      "Euclidian Distance to Ground Truth 7.681145747868608\n",
      "All 65 Accuracy:  0.9126136812969553 mean risk score: 0.177145116646896\n",
      "Euclidian Distance to Ground Truth 14.866068747318506\n",
      "All Random (Uniform) Accuracy:  0.9659944642151048 mean risk score: 0.08580466587584025\n",
      "Euclidian Distance to Ground Truth 9.273618495495704\n",
      "All Random (Normal) Accuracy:  0.9624357453538949 mean risk score: 0.08936338473705022\n",
      "Euclidian Distance to Ground Truth 9.746794344808963\n",
      "Lowest accuracies found at {age, accuracy}: {66: 0.8406484776591538, 67: 0.8406484776591538, 68: 0.8406484776591538, 69: 0.8406484776591538, 70: 0.8406484776591538}\n",
      "RUNNING IMMIGRANT PROXY MUTATION TESTS:\n",
      "persoonlijke_eigenschappen_spreektaal_anders:\n",
      "All Dutch Speakers Accuracy:  0.9849742981415579 mean risk score: 0.09529458283906682\n",
      "Euclidian Distance to Ground Truth 6.164414002968976\n",
      "All Non-Dutch Speakers Accuracy:  0.9849742981415579 mean risk score: 0.09529458283906682\n",
      "Euclidian Distance to Ground Truth 6.164414002968976\n",
      "All Inverted Speakers Accuracy:  0.9849742981415579 mean risk score: 0.09529458283906682\n",
      "Euclidian Distance to Ground Truth 6.164414002968976\n",
      "adres_dagen_op_adres:\n",
      "All set to mean accuracy:  0.985369711348359 mean risk score: 0.09648082245947015\n",
      "Euclidian Distance to Ground Truth 6.082762530298219\n",
      "All max days accuracy:  0.9829972321075524 mean risk score: 0.09252669039145907\n",
      "Euclidian Distance to Ground Truth 6.557438524302\n",
      "All min days accuracy:  0.9849742981415579 mean risk score: 0.09529458283906682\n",
      "Euclidian Distance to Ground Truth 6.164414002968976\n",
      "persoonlijke_eigenschappen_dagen_sinds_taaleis:\n",
      "All mean days accuracy:  0.9841834717279557 mean risk score: 0.09292210359826018\n",
      "Euclidian Distance to Ground Truth 6.324555320336759\n",
      "All max days accuracy:  0.9770660340055358 mean risk score: 0.0826413602214314\n",
      "Euclidian Distance to Ground Truth 7.615773105863909\n",
      "All min days accuracy:  0.9841834717279557 mean risk score: 0.09766706207987347\n",
      "Euclidian Distance to Ground Truth 6.324555320336759\n",
      "typering_hist_inburgeringsbehoeftig:\n",
      "All zeros accuracy:  0.9849742981415579 mean risk score: 0.09529458283906682\n",
      "Euclidian Distance to Ground Truth 6.164414002968976\n",
      "All ones accuracy:  0.9849742981415579 mean risk score: 0.09529458283906682\n",
      "Euclidian Distance to Ground Truth 6.164414002968976\n",
      "RUNNING YOUNG IMMIGRANT TESTS\n",
      "Best case accuracy:  0.9517595887702649 mean risk score: 0.05970739422696718\n",
      "Euclidian Distance to Ground Truth 11.045361017187261\n",
      "Young Immigrant accuracy:  0.9762752075919335 mean risk score: 0.09608540925266904\n",
      "Euclidian Distance to Ground Truth 7.745966692414834\n",
      "Worst case accuracy:  0.8900751285092922 mean risk score: 0.20284697508896798\n",
      "Euclidian Distance to Ground Truth 16.673332000533065\n"
     ]
    }
   ],
   "source": [
    "test = Tests()\n",
    "\n",
    "# Run different tests\n",
    "results = test.testGenderOnnx(new_session, X_test, y_test, which='all', verbose=False)\n",
    "results_b = test.testAgeOnnx(new_session, X_test, y_test, which='all')\n",
    "results_c = test.testImmigrantsOnnx(new_session, X_test, y_test)\n",
    "results_d = test.testYoungImmigrantsOnnx(new_session, X_test, y_test)\n"
   ]
  },
  {
   "cell_type": "markdown",
   "metadata": {},
   "source": [
    "# Distributions\n",
    "Small investigation into dataset distributions to motivate normalized/uniform random tests."
   ]
  },
  {
   "cell_type": "code",
   "execution_count": 22,
   "metadata": {},
   "outputs": [
    {
     "name": "stdout",
     "output_type": "stream",
     "text": [
      "49.40332147093713\n",
      "9.822235974220519\n"
     ]
    },
    {
     "data": {
      "image/png": "[encoded data removed]",
      "text/plain": [
       "<Figure size 640x480 with 1 Axes>"
      ]
     },
     "metadata": {},
     "output_type": "display_data"
    }
   ],
   "source": [
    "import matplotlib.pyplot as plt\n",
    "plt.hist(X_test['persoon_leeftijd_bij_onderzoek'])\n",
    "print(np.mean(X_test['persoon_leeftijd_bij_onderzoek']))\n",
    "print(np.std(X_test['persoon_leeftijd_bij_onderzoek']))"
   ]
  },
  {
   "cell_type": "code",
   "execution_count": 23,
   "metadata": {},
   "outputs": [
    {
     "name": "stdout",
     "output_type": "stream",
     "text": [
      "49.43592634731447\n",
      "9.796798681016659\n"
     ]
    },
    {
     "data": {
      "image/png": "[encoded data removed]",
      "text/plain": [
       "<Figure size 640x480 with 1 Axes>"
      ]
     },
     "metadata": {},
     "output_type": "display_data"
    }
   ],
   "source": [
    "ran = np.random.normal(loc=49.40332147093713, scale=9.822235974220519, size=len(X_test['persoon_leeftijd_bij_onderzoek']))\n",
    "plt.hist(ran)\n",
    "print(np.mean(ran))\n",
    "print(np.std(ran))"
   ]
  },
  {
   "cell_type": "code",
   "execution_count": 24,
   "metadata": {},
   "outputs": [
    {
     "name": "stdout",
     "output_type": "stream",
     "text": [
      "0.48279952550415184\n",
      "0.4997040560943224\n"
     ]
    },
    {
     "data": {
      "image/png": "[encoded data removed]",
      "text/plain": [
       "<Figure size 640x480 with 1 Axes>"
      ]
     },
     "metadata": {},
     "output_type": "display_data"
    }
   ],
   "source": [
    "plt.hist(X_test['persoonlijke_eigenschappen_spreektaal_anders'])\n",
    "print(np.mean(X_test['persoonlijke_eigenschappen_spreektaal_anders']))\n",
    "print(np.std(X_test['persoonlijke_eigenschappen_spreektaal_anders']))"
   ]
  },
  {
   "cell_type": "markdown",
   "metadata": {},
   "source": [
    "# Retesting our own models"
   ]
  },
  {
   "cell_type": "code",
   "execution_count": 3,
   "metadata": {},
   "outputs": [],
   "source": [
    "tester = Tests()"
   ]
  },
  {
   "cell_type": "markdown",
   "metadata": {},
   "source": [
    "### ORIGINAL"
   ]
  },
  {
   "cell_type": "code",
   "execution_count": 4,
   "metadata": {},
   "outputs": [],
   "source": [
    "# Load original dataset \n",
    "csv_path = 'data/synth_data_for_training.csv'\n",
    "data = pd.read_csv(csv_path)\n",
    "\n",
    "# Let's specify the features and the target\n",
    "y = data['checked']\n",
    "X = data.drop(['checked'], axis=1)\n",
    "X = X.astype(np.float32)\n",
    "\n",
    "# Let's split the dataset into train and test\n",
    "X_train, X_test, y_train, y_test = train_test_split(X, y, test_size=0.25, random_state=42)\n",
    "# Do a second split to make it a fair comparison between models\n",
    "_, X_test, _, y_test = train_test_split(X, y, test_size=0.2, random_state=0)"
   ]
  },
  {
   "cell_type": "code",
   "execution_count": 5,
   "metadata": {},
   "outputs": [],
   "source": [
    "selector = VarianceThreshold()\n",
    "classifier = GradientBoostingClassifier(n_estimators=100, learning_rate=1.0, max_depth=1, random_state=0)\n",
    "pipeline = Pipeline(steps=[('selector', selector), ('classification', classifier)])"
   ]
  },
  {
   "cell_type": "code",
   "execution_count": 6,
   "metadata": {},
   "outputs": [
    {
     "name": "stdout",
     "output_type": "stream",
     "text": [
      "Accuracy of the original model:  0.9474100434954528\n",
      "Accuracy of the ONNX model:  0.9474100434954528\n",
      "[[2228   34]\n",
      " [  99  168]]\n",
      "Precision 0.8316831683168316 recall 0.6292134831460674\n"
     ]
    }
   ],
   "source": [
    "# Pipeline\n",
    "pipeline.fit(X_train, y_train)\n",
    "y_pred = pipeline.predict(X_test)\n",
    "original_accuracy = accuracy_score(y_test, y_pred)\n",
    "print('Accuracy of the original model: ', original_accuracy)\n",
    "\n",
    "# Conversion to ONNX and testing\n",
    "onnx_model = convert_sklearn(\n",
    "    pipeline, initial_types=[('X', FloatTensorType((None, X.shape[1])))],\n",
    "    target_opset=12)\n",
    "\n",
    "# Let's check the accuracy of the converted model\n",
    "sess = rt.InferenceSession(onnx_model.SerializeToString())\n",
    "y_pred_onnx =  sess.run(None, {'X': X_test.values.astype(np.float32)})\n",
    "\n",
    "accuracy_onnx_model = accuracy_score(y_test, y_pred_onnx[0])\n",
    "confusion = confusion_matrix(y_test, y_pred_onnx[0])\n",
    "precision = precision_score(y_test, y_pred_onnx[0])\n",
    "recall = recall_score(y_test, y_pred_onnx[0])\n",
    "print('Accuracy of the ONNX model: ', accuracy_onnx_model)\n",
    "print(confusion)\n",
    "print('Precision', precision, 'recall', recall)"
   ]
  },
  {
   "cell_type": "code",
   "execution_count": 7,
   "metadata": {},
   "outputs": [
    {
     "name": "stdout",
     "output_type": "stream",
     "text": [
      "RUNNING GENDER MUTATION TESTS:\n",
      "Original Accuracy:  0.9474100434954528 mean risk score: 0.07987346777382365\n",
      "Euclidian Distance to Ground Truth 11.532562594670797\n",
      "All Male Accuracy:  0.9454329774614472 mean risk score: 0.07315144325820483\n",
      "Euclidian Distance to Ground Truth 11.74734012447073\n",
      "All Female Accuracy:  0.9470146302886516 mean risk score: 0.09529458283906682\n",
      "Euclidian Distance to Ground Truth 11.575836902790225\n",
      "Swapped Genders Accuracy:  0.9450375642546461 mean risk score: 0.088572558323448\n",
      "Euclidian Distance to Ground Truth 11.789826122551595\n",
      "Random Genders Accuracy:  0.9478054567022538 mean risk score: 0.08422301304863583\n",
      "Euclidian Distance to Ground Truth 11.489125293076057\n",
      "RUNNING AGE MUTATION TESTS:\n",
      "Original Accuracy:  0.9474100434954528 mean risk score: 0.07987346777382365\n",
      "Euclidian Distance to Ground Truth 11.532562594670797\n",
      "All 25 Accuracy:  0.9177540529853697 mean risk score: 0.13483590351917754\n",
      "Euclidian Distance to Ground Truth 14.422205101855956\n",
      "All 45 Accuracy:  0.9280347963621985 mean risk score: 0.051008303677342826\n",
      "Euclidian Distance to Ground Truth 13.490737563232042\n",
      "All 65 Accuracy:  0.7643337287465402 mean risk score: 0.32305258995650454\n",
      "Euclidian Distance to Ground Truth 24.413111231467404\n",
      "All Random (Uniform) Accuracy:  0.9094503756425465 mean risk score: 0.10043495452748122\n",
      "Euclidian Distance to Ground Truth 15.132745950421556\n",
      "All Random (Normal) Accuracy:  0.9031237643337288 mean risk score: 0.08699090549624358\n",
      "Euclidian Distance to Ground Truth 15.652475842498529\n",
      "Lowest accuracies found at {age, accuracy}: {66: 0.5492289442467378, 67: 0.5492289442467378, 68: 0.5492289442467378, 69: 0.5492289442467378, 70: 0.5492289442467378}\n",
      "RUNNING IMMIGRANT PROXY MUTATION TESTS:\n",
      "persoonlijke_eigenschappen_spreektaal_anders:\n",
      "All Dutch Speakers Accuracy:  0.9474100434954528 mean risk score: 0.07987346777382365\n",
      "Euclidian Distance to Ground Truth 11.532562594670797\n",
      "All Non-Dutch Speakers Accuracy:  0.9474100434954528 mean risk score: 0.07987346777382365\n",
      "Euclidian Distance to Ground Truth 11.532562594670797\n",
      "All Inverted Speakers Accuracy:  0.9474100434954528 mean risk score: 0.07987346777382365\n",
      "Euclidian Distance to Ground Truth 11.532562594670797\n",
      "adres_dagen_op_adres:\n",
      "All set to mean accuracy:  0.9474100434954528 mean risk score: 0.07987346777382365\n",
      "Euclidian Distance to Ground Truth 11.532562594670797\n",
      "All max days accuracy:  0.9474100434954528 mean risk score: 0.07987346777382365\n",
      "Euclidian Distance to Ground Truth 11.532562594670797\n",
      "All min days accuracy:  0.9474100434954528 mean risk score: 0.07987346777382365\n",
      "Euclidian Distance to Ground Truth 11.532562594670797\n",
      "persoonlijke_eigenschappen_dagen_sinds_taaleis:\n",
      "All mean days accuracy:  0.9398971925662317 mean risk score: 0.06524317912218268\n",
      "Euclidian Distance to Ground Truth 12.328828005937952\n",
      "All max days accuracy:  0.9260577303281929 mean risk score: 0.03716884143930407\n",
      "Euclidian Distance to Ground Truth 13.674794331177344\n",
      "All min days accuracy:  0.9482008699090549 mean risk score: 0.10676156583629894\n",
      "Euclidian Distance to Ground Truth 11.445523142259598\n",
      "typering_hist_inburgeringsbehoeftig:\n",
      "All zeros accuracy:  0.9474100434954528 mean risk score: 0.07987346777382365\n",
      "Euclidian Distance to Ground Truth 11.532562594670797\n",
      "All ones accuracy:  0.9474100434954528 mean risk score: 0.07987346777382365\n",
      "Euclidian Distance to Ground Truth 11.532562594670797\n",
      "RUNNING YOUNG IMMIGRANT TESTS\n",
      "Best case accuracy:  0.9118228548833531 mean risk score: 0.021352313167259787\n",
      "Euclidian Distance to Ground Truth 14.933184523068078\n",
      "Young Immigrant accuracy:  0.8928430209568999 mean risk score: 0.17240015816528273\n",
      "Euclidian Distance to Ground Truth 16.46207763315433\n",
      "Worst case accuracy:  0.7030446816923686 mean risk score: 0.39066824831949387\n",
      "Euclidian Distance to Ground Truth 27.40437921208944\n"
     ]
    },
    {
     "data": {
      "text/plain": [
       "{'best': [0.9118228548833531, 14.933184523068078],\n",
       " 'young': [0.8928430209568999, 16.46207763315433],\n",
       " 'worst': [0.7030446816923686, 27.40437921208944]}"
      ]
     },
     "execution_count": 7,
     "metadata": {},
     "output_type": "execute_result"
    }
   ],
   "source": [
    "tester.testGenderOnnx(pipeline, X_test, y_test)\n",
    "tester.testAgeOnnx(pipeline, X_test, y_test)\n",
    "tester.testImmigrantsOnnx(pipeline, X_test, y_test)\n",
    "tester.testYoungImmigrantsOnnx(pipeline, X_test, y_test)"
   ]
  },
  {
   "cell_type": "markdown",
   "metadata": {},
   "source": [
    "### AUGMENTED / OUR GOOD MODEL"
   ]
  },
  {
   "cell_type": "code",
   "execution_count": 4,
   "metadata": {},
   "outputs": [],
   "source": [
    "# Load augmented dataset\n",
    "train_csv_path = 'data/goodTrain.csv'\n",
    "test_csv_path = 'data/goodTest.csv'\n",
    "\n",
    "train = pd.read_csv(train_csv_path)\n",
    "y_train = train['checked']\n",
    "X_train = train.drop(['checked'], axis=1)\n",
    "test = pd.read_csv(test_csv_path)\n",
    "y_test = test['checked']\n",
    "X_test = test.drop(['checked'], axis=1)\n",
    "y = pd.concat([y_train, y_test])\n",
    "X = pd.concat([X_train, X_test])\n",
    "_, X_test, _, y_test = train_test_split(X, y, test_size=0.2, random_state=0)"
   ]
  },
  {
   "cell_type": "code",
   "execution_count": 5,
   "metadata": {},
   "outputs": [
    {
     "name": "stdout",
     "output_type": "stream",
     "text": [
      "315\n",
      "31\n",
      "['checked']\n",
      "284\n",
      "285\n"
     ]
    }
   ],
   "source": [
    "# Features to pass (Deemed the dropped features to subjective)\n",
    "features_to_pass = X_train.columns.tolist()\n",
    "print(len(features_to_pass))\n",
    "\n",
    "features_to_delete = ['competentie_vakdeskundigheid_toepassen', 'pla_historie_ontwikkeling', 'afspraak_inspanningsperiode',\n",
    "                     'afspraak_laatstejaar_aantal_woorden', 'afspraak_aantal_woorden', 'afspraak_signaal_voor_medewerker',\n",
    "                     'persoonlijke_eigenschappen_uitstroom_verw_vlgs_klant', 'persoonlijke_eigenschappen_taaleis_voldaan',\n",
    "                    'competentie_kwaliteit_leveren', 'competentie_gedrevenheid_en_ambitie_tonen',\n",
    "                     'persoonlijke_eigenschappen_opstelling', 'competentie_overtuigen_en_beïnvloeden', 'competentie_aansturen',\n",
    "                     'competentie_other', 'competentie_op_de_behoeften_en_verwachtingen_van_de__klant__richten', 'persoonlijke_eigenschappen_houding_opm',\n",
    "                     'competentie_materialen_en_middelen_inzetten', 'persoonlijke_eigenschappen_leergierigheid_opm', 'competentie_formuleren_en_rapporteren',\n",
    "                     'persoonlijke_eigenschappen_initiatief_opm', 'competentie_onderzoeken', 'persoonlijke_eigenschappen_presentatie_opm',\n",
    "                     'competentie_met_druk_en_tegenslag_omgaan', 'persoonlijke_eigenschappen_communicatie_opm', 'persoonlijke_eigenschappen_doorzettingsvermogen_opm',\n",
    "                     'competentie_instructies_en_procedures_opvolgen', 'competentie_leren', 'competentie_omgaan_met_verandering_en_aanpassen',\n",
    "                     'persoonlijke_eigenschappen_flexibiliteit_opm', 'persoonlijke_eigenschappen_zelfstandigheid_opm', 'checked']\n",
    "print(len(features_to_delete))\n",
    "\n",
    "# Elements of features_to_delete but not of features_to_pass\n",
    "print(([x for x in features_to_delete if x not in features_to_pass]))\n",
    "print(len(features_to_pass) - len(features_to_delete))\n",
    "features_to_pass = [x for x in features_to_pass if x not in features_to_delete]\n",
    "print(len(features_to_pass))\n"
   ]
  },
  {
   "cell_type": "code",
   "execution_count": 6,
   "metadata": {},
   "outputs": [],
   "source": [
    "# Scaler\n",
    "standardizer = StandardScaler()\n",
    "\n",
    "# Preprocessor\n",
    "preprocessor = ColumnTransformer(\n",
    "    transformers=[\n",
    "        (\"binned\",  KBinsDiscretizer(n_bins=5, encode='ordinal', strategy='uniform'), ['persoon_leeftijd_bij_onderzoek']),\n",
    "        ('passthrough', 'passthrough', features_to_pass)\n",
    "    ],\n",
    "    remainder='drop',\n",
    "    verbose_feature_names_out=False  # Set verbose_feature_names to False\n",
    ")\n",
    "\n",
    "# Classifier\n",
    "classifier = GradientBoostingClassifier(n_estimators=100, learning_rate=1.0, max_depth=1, random_state=0)\n",
    "\n",
    "# Create pipeline\n",
    "pipeline = Pipeline(steps=[('preprocessor', preprocessor), ('standardization', standardizer), ('classification', classifier)])"
   ]
  },
  {
   "cell_type": "code",
   "execution_count": 7,
   "metadata": {},
   "outputs": [
    {
     "name": "stderr",
     "output_type": "stream",
     "text": [
      "c:\\Users\\ninol\\AppData\\Local\\Programs\\Python\\Python311\\Lib\\site-packages\\sklearn\\preprocessing\\_discretization.py:248: FutureWarning: In version 1.5 onwards, subsample=200_000 will be used by default. Set subsample explicitly to silence this warning in the mean time. Set subsample=None to disable subsampling explicitly.\n",
      "  warnings.warn(\n"
     ]
    },
    {
     "name": "stdout",
     "output_type": "stream",
     "text": [
      "Accuracy of the original model:  0.9463057466163746\n",
      "Accuracy of the ONNX model:  0.9463057466163746\n",
      "[[3990   68]\n",
      " [ 174  275]]\n",
      "Precision 0.8017492711370262 recall 0.6124721603563474\n"
     ]
    }
   ],
   "source": [
    "# Pipeline\n",
    "pipeline.fit(X_train, y_train)\n",
    "y_pred = pipeline.predict(X_test)\n",
    "original_accuracy = accuracy_score(y_test, y_pred)\n",
    "print('Accuracy of the original model: ', original_accuracy)\n",
    "\n",
    "# Conversion to ONNX and testing\n",
    "def convert_dataframe_schema(df, drop=None):\n",
    "    inputs = []\n",
    "    for k, v in zip(df.columns, df.dtypes):\n",
    "        if drop is not None and k in drop:\n",
    "            continue\n",
    "\n",
    "        t = FloatTensorType([None, 1])\n",
    "\n",
    "        inputs.append((k, t))\n",
    "    return inputs\n",
    "\n",
    "initial_inputs = convert_dataframe_schema(X_test)\n",
    "onnx_model = convert_sklearn(\n",
    "    pipeline, initial_types=initial_inputs,\n",
    "    target_opset=12)\n",
    "\n",
    "inputs = {c: X_test[c].values for c in X_test.columns}\n",
    "for (c, _) in initial_inputs:\n",
    "    inputs[c] = inputs[c].astype(np.float32)\n",
    "for k in inputs:\n",
    "    inputs[k] = inputs[k].reshape((inputs[k].shape[0], 1))\n",
    "\n",
    "# Let's check the accuracy of the converted model\n",
    "sess = rt.InferenceSession(onnx_model.SerializeToString())\n",
    "# inputs = {c: X_test[c].values for c in X_test.columns}\n",
    "y_pred_onnx =  sess.run(None, inputs)\n",
    "\n",
    "accuracy_onnx_model = accuracy_score(y_test, y_pred_onnx[0])\n",
    "confusion = confusion_matrix(y_test, y_pred_onnx[0])\n",
    "precision = precision_score(y_test, y_pred_onnx[0])\n",
    "recall = recall_score(y_test, y_pred_onnx[0])\n",
    "print('Accuracy of the ONNX model: ', accuracy_onnx_model)\n",
    "print(confusion)\n",
    "print('Precision', precision, 'recall', recall)"
   ]
  },
  {
   "cell_type": "code",
   "execution_count": 8,
   "metadata": {},
   "outputs": [
    {
     "name": "stdout",
     "output_type": "stream",
     "text": [
      "RUNNING GENDER MUTATION TESTS:\n",
      "Original Accuracy:  0.9463057466163746 mean risk score: 0.07610383847348569\n",
      "Euclidian Distance to Ground Truth 15.556349186104045\n",
      "All Male Accuracy:  0.9463057466163746 mean risk score: 0.07610383847348569\n",
      "Euclidian Distance to Ground Truth 15.556349186104045\n",
      "All Female Accuracy:  0.9463057466163746 mean risk score: 0.07610383847348569\n",
      "Euclidian Distance to Ground Truth 15.556349186104045\n",
      "Swapped Genders Accuracy:  0.9463057466163746 mean risk score: 0.07610383847348569\n",
      "Euclidian Distance to Ground Truth 15.556349186104045\n",
      "Random Genders Accuracy:  0.9463057466163746 mean risk score: 0.07610383847348569\n",
      "Euclidian Distance to Ground Truth 15.556349186104045\n",
      "RUNNING AGE MUTATION TESTS:\n",
      "Original Accuracy:  0.9463057466163746 mean risk score: 0.07610383847348569\n",
      "Euclidian Distance to Ground Truth 15.556349186104045\n",
      "All 25 Accuracy:  0.9398713112935434 mean risk score: 0.06656312402928777\n",
      "Euclidian Distance to Ground Truth 16.46207763315433\n",
      "All 45 Accuracy:  0.9398713112935434 mean risk score: 0.06656312402928777\n",
      "Euclidian Distance to Ground Truth 16.46207763315433\n",
      "All 65 Accuracy:  0.6747282005768804 mean risk score: 0.40936321278011983\n",
      "Euclidian Distance to Ground Truth 38.28837943815329\n",
      "All Random (Uniform) Accuracy:  0.922343021965831 mean risk score: 0.08542267583758598\n",
      "Euclidian Distance to Ground Truth 18.708286933869708\n",
      "All Random (Normal) Accuracy:  0.9156867095629021 mean risk score: 0.09207898824051476\n",
      "Euclidian Distance to Ground Truth 19.493588689617926\n",
      "Lowest accuracies found at {age, accuracy}: {66: 0.4388728644331041, 67: 0.4388728644331041, 68: 0.4388728644331041, 69: 0.4388728644331041, 70: 0.4388728644331041}\n",
      "RUNNING IMMIGRANT PROXY MUTATION TESTS:\n",
      "persoonlijke_eigenschappen_spreektaal_anders:\n",
      "All Dutch Speakers Accuracy:  0.9463057466163746 mean risk score: 0.07610383847348569\n",
      "Euclidian Distance to Ground Truth 15.556349186104045\n",
      "All Non-Dutch Speakers Accuracy:  0.9463057466163746 mean risk score: 0.07610383847348569\n",
      "Euclidian Distance to Ground Truth 15.556349186104045\n",
      "All Inverted Speakers Accuracy:  0.9463057466163746 mean risk score: 0.07610383847348569\n",
      "Euclidian Distance to Ground Truth 15.556349186104045\n",
      "adres_dagen_op_adres:\n",
      "All set to mean accuracy:  0.945418238295984 mean risk score: 0.07832260927446195\n",
      "Euclidian Distance to Ground Truth 15.684387141358123\n",
      "All max days accuracy:  0.9416463279343243 mean risk score: 0.062125582427335256\n",
      "Euclidian Distance to Ground Truth 16.217274740226856\n",
      "All min days accuracy:  0.945418238295984 mean risk score: 0.07832260927446195\n",
      "Euclidian Distance to Ground Truth 15.684387141358123\n",
      "persoonlijke_eigenschappen_dagen_sinds_taaleis:\n",
      "All mean days accuracy:  0.9396494342134457 mean risk score: 0.06101619702684713\n",
      "Euclidian Distance to Ground Truth 16.492422502470642\n",
      "All max days accuracy:  0.9314399822498336 mean risk score: 0.04348790769913468\n",
      "Euclidian Distance to Ground Truth 17.578395831246947\n",
      "All min days accuracy:  0.9405369425338362 mean risk score: 0.10006656312402928\n",
      "Euclidian Distance to Ground Truth 16.3707055437449\n",
      "typering_hist_inburgeringsbehoeftig:\n",
      "All zeros accuracy:  0.9463057466163746 mean risk score: 0.07610383847348569\n",
      "Euclidian Distance to Ground Truth 15.556349186104045\n",
      "All ones accuracy:  0.9463057466163746 mean risk score: 0.07610383847348569\n",
      "Euclidian Distance to Ground Truth 15.556349186104045\n",
      "RUNNING YOUNG IMMIGRANT TESTS\n",
      "Best case accuracy:  0.921677390725538 mean risk score: 0.027069003771910363\n",
      "Euclidian Distance to Ground Truth 18.788294228055936\n",
      "Young Immigrant accuracy:  0.9321056134901264 mean risk score: 0.088972709119148\n",
      "Euclidian Distance to Ground Truth 17.4928556845359\n",
      "Worst case accuracy:  0.5813179498557799 mean risk score: 0.5089860217439538\n",
      "Euclidian Distance to Ground Truth 43.439613257946945\n"
     ]
    },
    {
     "data": {
      "text/plain": [
       "{'best': [0.921677390725538, 18.788294228055936],\n",
       " 'young': [0.9321056134901264, 17.4928556845359],\n",
       " 'worst': [0.5813179498557799, 43.439613257946945]}"
      ]
     },
     "execution_count": 8,
     "metadata": {},
     "output_type": "execute_result"
    }
   ],
   "source": [
    "tester.testGenderOnnx(pipeline, X_test, y_test)\n",
    "tester.testAgeOnnx(pipeline, X_test, y_test)\n",
    "tester.testImmigrantsOnnx(pipeline, X_test, y_test)\n",
    "tester.testYoungImmigrantsOnnx(pipeline, X_test, y_test)"
   ]
  }
 ],
 "metadata": {
  "kernelspec": {
   "display_name": "rotterdamrisk",
   "language": "python",
   "name": "python3"
  },
  "language_info": {
   "codemirror_mode": {
    "name": "ipython",
    "version": 3
   },
   "file_extension": ".py",
   "mimetype": "text/x-python",
   "name": "python",
   "nbconvert_exporter": "python",
   "pygments_lexer": "ipython3",
   "version": "3.11.0"
  }
 },
 "nbformat": 4,
 "nbformat_minor": 2
}
