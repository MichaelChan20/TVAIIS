{
 "cells": [
  {
   "cell_type": "code",
   "execution_count": null,
   "metadata": {},
   "outputs": [],
   "source": [
    "import numpy as np\n",
    "import pandas as pd"
   ]
  },
  {
   "cell_type": "code",
   "execution_count": null,
   "metadata": {},
   "outputs": [],
   "source": [
    "## This function takes the dataset and an attribute and creates a biased split so the ratio of privaliged and unprivalaged in the train is similar to the parameter 'ratio'\n",
    "def make_biasedSet(data, attribute, ratio, split, unpriv, priv):\n",
    "  train_size = int(len(data) * split)\n",
    "  test_size = len(data) - train_size\n",
    "  print(\"Data size: \", len(data))\n",
    "  unpriv_sus = data[(data[attribute] == unpriv) & (data[\"checked\"] == 1)].index.tolist()\n",
    "  unpriv_non = data[(data[attribute] == unpriv) & (data[\"checked\"] == 0)].index.tolist()\n",
    "  priv_sus = data[(data[attribute] == priv) & (data[\"checked\"] == 1)].index.tolist()\n",
    "  priv_non = data[(data[attribute] == priv) & (data[\"checked\"] == 0)].index.tolist()\n",
    "  np.random.shuffle(unpriv_sus)\n",
    "  np.random.shuffle(unpriv_non)\n",
    "  np.random.shuffle(priv_sus)\n",
    "  np.random.shuffle(priv_non)\n",
    "\n",
    "  # Verify the types after shuffling\n",
    "  print(type(priv_sus))  # This will print \"<class 'list'>\"\n",
    "\n",
    "  # Manually set the desired ratio for suspected to non-suspected instances in the privileged and unprivileged groups\n",
    "  desired_ratio_priv = 0.3  # Modify this ratio as per your requirement\n",
    "  desired_ratio_unpriv = 0.03  # Modify this ratio as per your requirement\n",
    "\n",
    "  # Calculate the ratios of suspected to non-suspected instances in the privileged and unprivileged groups\n",
    "  ratio_priv = len(priv_sus) / len(priv_non)\n",
    "  ratio_unpriv = len(unpriv_sus) / len(unpriv_non)\n",
    "\n",
    "  # Determine the number of elements to be taken from unprivileged group for the first list\n",
    "  c_unpriv = int(len(unpriv_sus) * split)\n",
    "  o_unpriv = min(int(c_unpriv / desired_ratio_unpriv), len(unpriv_non))  # Ensure not to exceed length of b\n",
    "  c_unpriv = int(o_unpriv * desired_ratio_unpriv)  # Adjust the number of elements taken to maintain the ratio\n",
    "  print(\"unpriv ratio = \", c_unpriv, \" / \", o_unpriv, \" = \", (c_unpriv / o_unpriv))\n",
    "\n",
    "  # Determine the number of elements to be taken from privileged group for the first list\n",
    "  c_priv = int(len(priv_sus) * split)\n",
    "  o_priv = min(int(c_priv / desired_ratio_priv), len(priv_non))  # Ensure not to exceed length of b\n",
    "  c_priv = int(o_priv * desired_ratio_priv)  # Adjust the number of elements taken to maintain the ratio\n",
    "  print(\"priv ratio = \", c_priv, \" / \", o_priv, \" = \", (c_priv / o_priv))\n",
    "\n",
    "  print(len(unpriv_sus[:c_unpriv]) / len(unpriv_non[:o_unpriv]))\n",
    "  # Create the first list with the desired ratios\n",
    "  train_set = unpriv_sus[:c_unpriv] + unpriv_non[:o_unpriv] + \\\n",
    "            priv_sus[:c_priv] + priv_non[:o_priv]\n",
    "\n",
    "\n",
    "  test_set = unpriv_sus[c_unpriv:] + unpriv_non[o_unpriv:] + \\\n",
    "            priv_sus[c_priv:] + priv_non[o_priv:]\n",
    "\n",
    "\n",
    "  train_set_df = data.iloc[train_set]\n",
    "  test_set_df = data.iloc[test_set]\n",
    "  print(train_set_df.shape)\n",
    "\n",
    "  print(\"Train set size: \", len(train_set))\n",
    "  print(\"Test set size: \", len(test_set))\n",
    "  print(\"Train|Test split: \", (len(train_set) / len(data)))\n",
    "\n",
    "\n",
    "\n",
    "  print(\"Correctness check: \", (len(data) == len(test_set) + len(train_set)))\n",
    "\n",
    "\n",
    "\n",
    "\n",
    "\n"
   ]
  },
  {
   "cell_type": "code",
   "execution_count": null,
   "metadata": {},
   "outputs": [],
   "source": [
    "# Let's load the dataset\n",
    "csv_path = '/content/drive/My Drive/onnx-example-main/data/synth_data_for_training.csv' \n",
    "data = pd.read_csv(csv_path)\n",
    "make_biasedSet(data, \"persoonlijke_eigenschappen_spreektaal_anders\", 0.8, 0.8, 1, 0)"
   ]
  }
 ],
 "metadata": {
  "language_info": {
   "name": "python"
  }
 },
 "nbformat": 4,
 "nbformat_minor": 2
}
